{
 "cells": [
  {
   "cell_type": "markdown",
   "id": "869ea807",
   "metadata": {
    "toc": true
   },
   "source": [
    "<h1>Table of Contents<span class=\"tocSkip\"></span></h1>\n",
    "<div class=\"toc\"><ul class=\"toc-item\"><li><span><a href=\"#Loading-and-preparing-data\" data-toc-modified-id=\"Loading-and-preparing-data-1\"><span class=\"toc-item-num\">1&nbsp;&nbsp;</span>Loading and preparing data</a></span><ul class=\"toc-item\"><li><span><a href=\"#Importing-the-necessary-libraries-and-modules\" data-toc-modified-id=\"Importing-the-necessary-libraries-and-modules-1.1\"><span class=\"toc-item-num\">1.1&nbsp;&nbsp;</span>Importing the necessary libraries and modules</a></span></li><li><span><a href=\"#Let's-open-files\" data-toc-modified-id=\"Let's-open-files-1.2\"><span class=\"toc-item-num\">1.2&nbsp;&nbsp;</span>Let's open files</a></span></li><li><span><a href=\"#View-basic-information-about-files\" data-toc-modified-id=\"View-basic-information-about-files-1.3\"><span class=\"toc-item-num\">1.3&nbsp;&nbsp;</span>View basic information about files</a></span><ul class=\"toc-item\"><li><span><a href=\"#Let's-write-a-small-function-to-simplify\" data-toc-modified-id=\"Let's-write-a-small-function-to-simplify-1.3.1\"><span class=\"toc-item-num\">1.3.1&nbsp;&nbsp;</span>Let's write a small function to simplify</a></span></li></ul></li></ul></li><li><span><a href=\"#Training-and-checking-models\" data-toc-modified-id=\"Training-and-checking-models-2\"><span class=\"toc-item-num\">2&nbsp;&nbsp;</span>Training and checking models</a></span><ul class=\"toc-item\"><li><span><a href=\"#Let's-write-a-function-that-will:\" data-toc-modified-id=\"Let's-write-a-function-that-will:-2.1\"><span class=\"toc-item-num\">2.1&nbsp;&nbsp;</span>Let's write a function that will:</a></span><ul class=\"toc-item\"><li><span><a href=\"#split-the-data-into-training-and-validation-samples-in-the-ratio-of-75:25\" data-toc-modified-id=\"split-the-data-into-training-and-validation-samples-in-the-ratio-of-75:25-2.1.1\"><span class=\"toc-item-num\">2.1.1&nbsp;&nbsp;</span>split the data into training and validation samples in the ratio of 75:25</a></span></li><li><span><a href=\"#train-the-model-and-make-predictions-on-the-validation-set\" data-toc-modified-id=\"train-the-model-and-make-predictions-on-the-validation-set-2.1.2\"><span class=\"toc-item-num\">2.1.2&nbsp;&nbsp;</span>train the model and make predictions on the validation set</a></span></li><li><span><a href=\"#store-predictions-and-correct-answers-on-the-validation-set\" data-toc-modified-id=\"store-predictions-and-correct-answers-on-the-validation-set-2.1.3\"><span class=\"toc-item-num\">2.1.3&nbsp;&nbsp;</span>store predictions and correct answers on the validation set</a></span></li><li><span><a href=\"#print-on-the-screen-the-average-stock-of-predicted-raw-materials-and-the-RMSE-of-the-model\" data-toc-modified-id=\"print-on-the-screen-the-average-stock-of-predicted-raw-materials-and-the-RMSE-of-the-model-2.1.4\"><span class=\"toc-item-num\">2.1.4&nbsp;&nbsp;</span>print on the screen the average stock of predicted raw materials and the RMSE of the model</a></span></li></ul></li><li><span><a href=\"#Conclusion\" data-toc-modified-id=\"Conclusion-2.2\"><span class=\"toc-item-num\">2.2&nbsp;&nbsp;</span>Conclusion</a></span></li></ul></li><li><span><a href=\"#Preparation-for-profit-calculation\" data-toc-modified-id=\"Preparation-for-profit-calculation-3\"><span class=\"toc-item-num\">3&nbsp;&nbsp;</span>Preparation for profit calculation</a></span><ul class=\"toc-item\"><li><span><a href=\"#All-key-values-​​for-calculations-will-be-saved-in-separate-variables.\" data-toc-modified-id=\"All-key-values-​​for-calculations-will-be-saved-in-separate-variables.-3.1\"><span class=\"toc-item-num\">3.1&nbsp;&nbsp;</span>All key values ​​for calculations will be saved in separate variables.</a></span></li><li><span><a href=\"#Let's-calculate-a-sufficient-volume-of-raw-materials-for-break-even-development-of-a-new-well.-Let's-compare-the-received-volume-of-raw-materials-with-the-average-stock-in-each-region.\" data-toc-modified-id=\"Let's-calculate-a-sufficient-volume-of-raw-materials-for-break-even-development-of-a-new-well.-Let's-compare-the-received-volume-of-raw-materials-with-the-average-stock-in-each-region.-3.2\"><span class=\"toc-item-num\">3.2&nbsp;&nbsp;</span>Let's calculate a sufficient volume of raw materials for break-even development of a new well. Let's compare the received volume of raw materials with the average stock in each region.</a></span></li><li><span><a href=\"#Let's-write-the-conclusions-on-the-stage-of-preparing-the-profit-calculation.\" data-toc-modified-id=\"Let's-write-the-conclusions-on-the-stage-of-preparing-the-profit-calculation.-3.3\"><span class=\"toc-item-num\">3.3&nbsp;&nbsp;</span>Let's write the conclusions on the stage of preparing the profit calculation.</a></span></li></ul></li><li><span><a href=\"#Write-a-function-to-calculate-profit-for-selected-wells-and-model-predictions\" data-toc-modified-id=\"Write-a-function-to-calculate-profit-for-selected-wells-and-model-predictions-4\"><span class=\"toc-item-num\">4&nbsp;&nbsp;</span>Write a function to calculate profit for selected wells and model predictions</a></span><ul class=\"toc-item\"><li><span><a href=\"#Let's-select-wells-with-maximum-prediction-values.\" data-toc-modified-id=\"Let's-select-wells-with-maximum-prediction-values.-4.1\"><span class=\"toc-item-num\">4.1&nbsp;&nbsp;</span>Let's select wells with maximum prediction values.</a></span></li><li><span><a href=\"#Let's-sum-up-the-target-volume-of-raw-materials-corresponding-to-these-predictions.\" data-toc-modified-id=\"Let's-sum-up-the-target-volume-of-raw-materials-corresponding-to-these-predictions.-4.2\"><span class=\"toc-item-num\">4.2&nbsp;&nbsp;</span>Let's sum up the target volume of raw materials corresponding to these predictions.</a></span></li><li><span><a href=\"#Let's-calculate-the-profit-for-the-received-volume-of-raw-materials.\" data-toc-modified-id=\"Let's-calculate-the-profit-for-the-received-volume-of-raw-materials.-4.3\"><span class=\"toc-item-num\">4.3&nbsp;&nbsp;</span>Let's calculate the profit for the received volume of raw materials.</a></span></li><li><span><a href=\"#Conclusion\" data-toc-modified-id=\"Conclusion-4.4\"><span class=\"toc-item-num\">4.4&nbsp;&nbsp;</span>Conclusion</a></span></li></ul></li><li><span><a href=\"#Calculate-risks-and-rewards-for-each-region\" data-toc-modified-id=\"Calculate-risks-and-rewards-for-each-region-5\"><span class=\"toc-item-num\">5&nbsp;&nbsp;</span>Calculate risks and rewards for each region</a></span><ul class=\"toc-item\"><li><span><a href=\"#Let's-use-the-Bootstrap-technique-with-1000-samples-to-find-the-profit-distribution.\" data-toc-modified-id=\"Let's-use-the-Bootstrap-technique-with-1000-samples-to-find-the-profit-distribution.-5.1\"><span class=\"toc-item-num\">5.1&nbsp;&nbsp;</span>Let's use the Bootstrap technique with 1000 samples to find the profit distribution.</a></span><ul class=\"toc-item\"><li><span><a href=\"#Write-a-function\" data-toc-modified-id=\"Write-a-function-5.1.1\"><span class=\"toc-item-num\">5.1.1&nbsp;&nbsp;</span>Write a function</a></span></li></ul></li><li><span><a href=\"#Let's-find-the-average-profit,-95%-confidence-interval-and-risk-of-loss.-Loss-is-negative-profit\" data-toc-modified-id=\"Let's-find-the-average-profit,-95%-confidence-interval-and-risk-of-loss.-Loss-is-negative-profit-5.2\"><span class=\"toc-item-num\">5.2&nbsp;&nbsp;</span>Let's find the average profit, 95% confidence interval and risk of loss. Loss is negative profit</a></span></li><li><span><a href=\"#Let's-write-conclusions:-we-will-propose-a-region-for-well-development-and-justify-the-choice\" data-toc-modified-id=\"Let's-write-conclusions:-we-will-propose-a-region-for-well-development-and-justify-the-choice-5.3\"><span class=\"toc-item-num\">5.3&nbsp;&nbsp;</span>Let's write conclusions: we will propose a region for well development and justify the choice</a></span></li></ul></li></ul></div>"
   ]
  },
  {
   "cell_type": "markdown",
   "id": "3009307f",
   "metadata": {},
   "source": [
    "# Choosing a location for a well"
   ]
  },
  {
   "cell_type": "markdown",
   "id": "771e824a",
   "metadata": {},
   "source": [
    "Let's say you work for the mining company GlavRosGosNeft. We need to decide where to drill a new well.\n",
    "\n",
    "You were provided with oil samples in three regions: in each 10,000 fields, where the quality of oil and the volume of its reserves were measured. Build a machine learning model that will help determine the region where mining will bring the greatest profit. Analyze the possible profits and risks using the *Bootstrap.* technique\n",
    "\n",
    "Steps to select a location:\n",
    "\n",
    "- Deposits are searched for in the selected region, and the characteristic values are determined for each;\n",
    "- Build a model and estimate the volume of reserves;\n",
    "- Deposits with the highest estimated values are selected. The number of fields depends on the company’s budget and the cost of developing one well;\n",
    "- Profit is equal to the total profit of the selected fields."
   ]
  },
  {
   "cell_type": "markdown",
   "id": "c3b0d123",
   "metadata": {},
   "source": [
    "# Work plan:\n",
    "\n",
    "1.Download and prepare data\n",
    "\n",
    "2.Train and test the model for each region:\n",
    "\n",
    "2.1. Split the data into training and validation sets in a ratio of 75:25.\n",
    " \n",
    "2.2. Train the model and make predictions on the validation set.\n",
    " \n",
    "2.3. Store predictions and correct answers on the validation set.\n",
    " \n",
    "2.4. Print the average inventory of predicted raw materials and the RMSE of the model.\n",
    " \n",
    "2.5. Analyze the results.\n",
    "\n",
    "3.Prepare to calculate profits:\n",
    "\n",
    "3.1. Save all key values for calculations in separate variables.\n",
    "\n",
    "3.2. Calculate the sufficient volume of raw materials to break even the development of a new well. Compare the resulting volume of raw materials with the average stock in each region.\n",
    "\n",
    "3.3. Write conclusions on the stage of preparing the profit calculation.\n",
    "\n",
    "4.Write a function to calculate profit for selected wells and model predictions:\n",
    "\n",
    "4.1. Select wells with maximum prediction values.\n",
    "\n",
    "4.2. Sum up the raw material volume target corresponding to these predictions.\n",
    "\n",
    "4.3. Calculate the profit for the received volume of raw materials.\n",
    "\n",
    "5.Calculate the risks and profits for each region:\n",
    "\n",
    "5.1. Apply the Bootstrap technique with 1000 samples to find the profit distribution.\n",
    "\n",
    "5.2. Find the average return, 95% confidence interval, and risk of loss. A loss is a negative profit.\n",
    "\n",
    "5.3. Write your conclusions: suggest a region for well development and justify your choice."
   ]
  },
  {
   "cell_type": "markdown",
   "id": "4d62e681",
   "metadata": {},
   "source": [
    "# Data Description\n",
    "\n",
    "**Conditions of the problem:**\n",
    "\n",
    "Only linear regression is suitable for training the model (the others are not predictable enough).\n",
    "\n",
    "When exploring a region, 500 points are examined, from which, using machine learning, the best 200 are selected for development.\n",
    "\n",
    "The budget for well development in the region is 10 billion rubles.\n",
    "\n",
    "At current prices, one barrel of raw materials brings 450 rubles in income. The income from each unit of product is 450 thousand rubles, since the volume is indicated in thousands of barrels.\n",
    "\n",
    "After assessing the risks, you need to leave only those regions in which the probability of losses is less than 2.5%. Among them, the region with the highest average profit is selected."
   ]
  },
  {
   "cell_type": "markdown",
   "id": "fbbad42f",
   "metadata": {},
   "source": [
    "## Loading and preparing data"
   ]
  },
  {
   "cell_type": "markdown",
   "id": "eaec838b",
   "metadata": {},
   "source": [
    "### Importing the necessary libraries and modules"
   ]
  },
  {
   "cell_type": "code",
   "execution_count": 1,
   "id": "f99b4526",
   "metadata": {
    "ExecuteTime": {
     "end_time": "2023-09-07T19:26:27.096423Z",
     "start_time": "2023-09-07T19:26:22.871860Z"
    }
   },
   "outputs": [],
   "source": [
    "import pandas as pd \n",
    "import matplotlib.pyplot as plt\n",
    "\n",
    "from sklearn.model_selection import train_test_split\n",
    "from sklearn.linear_model import LinearRegression\n",
    "from sklearn.metrics import (\n",
    "    f1_score,\n",
    "    roc_auc_score,\n",
    "    mean_squared_error,\n",
    "    r2_score\n",
    ")\n",
    "from sklearn.preprocessing import StandardScaler\n",
    "import math\n",
    "from numpy.random import RandomState\n",
    "\n",
    "state = RandomState(12345)"
   ]
  },
  {
   "cell_type": "markdown",
   "id": "eef20a50",
   "metadata": {},
   "source": [
    "### Let's open files"
   ]
  },
  {
   "cell_type": "code",
   "execution_count": 2,
   "id": "f151e531",
   "metadata": {
    "ExecuteTime": {
     "end_time": "2023-09-07T19:26:28.517969Z",
     "start_time": "2023-09-07T19:26:27.100282Z"
    }
   },
   "outputs": [],
   "source": [
    "try:\n",
    "    data0 = pd.read_csv('/datasets/geo_data_0.csv', sep=',')\n",
    "except:\n",
    "    data0 = pd.read_csv('https://code.s3.yandex.net/datasets/geo_data_0.csv',\n",
    "                       sep=',')"
   ]
  },
  {
   "cell_type": "code",
   "execution_count": 3,
   "id": "39844d1f",
   "metadata": {
    "ExecuteTime": {
     "end_time": "2023-09-07T19:26:30.182546Z",
     "start_time": "2023-09-07T19:26:28.521310Z"
    }
   },
   "outputs": [],
   "source": [
    "try:\n",
    "    data1 = pd.read_csv('/datasets/geo_data_1.csv', sep=',')\n",
    "except:\n",
    "    data1 = pd.read_csv('https://code.s3.yandex.net/datasets/geo_data_1.csv',\n",
    "                       sep=',')"
   ]
  },
  {
   "cell_type": "code",
   "execution_count": 4,
   "id": "16c21095",
   "metadata": {
    "ExecuteTime": {
     "end_time": "2023-09-07T19:26:31.944980Z",
     "start_time": "2023-09-07T19:26:30.195746Z"
    }
   },
   "outputs": [],
   "source": [
    "try:\n",
    "    data2 = pd.read_csv('/datasets/geo_data_2.csv', sep=',')\n",
    "except:\n",
    "    data2 = pd.read_csv('https://code.s3.yandex.net/datasets/geo_data_2.csv',\n",
    "                       sep=',')"
   ]
  },
  {
   "cell_type": "code",
   "execution_count": 5,
   "id": "91d23ecc",
   "metadata": {
    "ExecuteTime": {
     "end_time": "2023-09-07T19:26:31.957571Z",
     "start_time": "2023-09-07T19:26:31.949157Z"
    }
   },
   "outputs": [],
   "source": [
    "data = (data0, data1, data2)"
   ]
  },
  {
   "cell_type": "markdown",
   "id": "e615409e",
   "metadata": {},
   "source": [
    "### View basic information about files"
   ]
  },
  {
   "cell_type": "markdown",
   "id": "0a0636f2",
   "metadata": {},
   "source": [
    "#### Let's write a small function to simplify"
   ]
  },
  {
   "cell_type": "code",
   "execution_count": 6,
   "id": "ec4bcbef",
   "metadata": {
    "ExecuteTime": {
     "end_time": "2023-09-07T19:26:31.978998Z",
     "start_time": "2023-09-07T19:26:31.962787Z"
    }
   },
   "outputs": [],
   "source": [
    "def data_info(data):\n",
    "    print('Table top:\\n', data.head(), end='\\n\\n');\n",
    "    print('Basic information about the table:\\n', data.info(), end='\\n\\n');\n",
    "    print('Distribution of table values:\\n', data.describe(include='all'),\n",
    "          end='\\n\\n');\n",
    "    print('Number of zero values:\\n', data.isna().sum(), end='\\n\\n');\n",
    "    print('Number of duplicates:\\n', data.duplicated().sum())\n",
    "    print('Number of unique values in column \"id\":\\n', data['id']\n",
    "          .value_counts())\n",
    "    print('Correlation:\\n', data.corr())\n",
    "    data[['f0','f1','f2']].hist()\n",
    "    print('\\nDistribution of feature values:\\n')\n",
    "    plt.show()"
   ]
  },
  {
   "cell_type": "code",
   "execution_count": 7,
   "id": "bc58d5a4",
   "metadata": {
    "ExecuteTime": {
     "end_time": "2023-09-07T19:26:33.207702Z",
     "start_time": "2023-09-07T19:26:31.983517Z"
    },
    "scrolled": true
   },
   "outputs": [
    {
     "name": "stdout",
     "output_type": "stream",
     "text": [
      "Table top:\n",
      "       id        f0        f1        f2     product\n",
      "0  txEyH  0.705745 -0.497823  1.221170  105.280062\n",
      "1  2acmU  1.334711 -0.340164  4.365080   73.037750\n",
      "2  409Wp  1.022732  0.151990  1.419926   85.265647\n",
      "3  iJLyR -0.032172  0.139033  2.978566  168.620776\n",
      "4  Xdl7t  1.988431  0.155413  4.751769  154.036647\n",
      "\n",
      "<class 'pandas.core.frame.DataFrame'>\n",
      "RangeIndex: 100000 entries, 0 to 99999\n",
      "Data columns (total 5 columns):\n",
      " #   Column   Non-Null Count   Dtype  \n",
      "---  ------   --------------   -----  \n",
      " 0   id       100000 non-null  object \n",
      " 1   f0       100000 non-null  float64\n",
      " 2   f1       100000 non-null  float64\n",
      " 3   f2       100000 non-null  float64\n",
      " 4   product  100000 non-null  float64\n",
      "dtypes: float64(4), object(1)\n",
      "memory usage: 3.8+ MB\n",
      "Basic information about the table:\n",
      " None\n",
      "\n",
      "Distribution of table values:\n",
      "             id             f0             f1             f2        product\n",
      "count   100000  100000.000000  100000.000000  100000.000000  100000.000000\n",
      "unique   99990            NaN            NaN            NaN            NaN\n",
      "top      fiKDv            NaN            NaN            NaN            NaN\n",
      "freq         2            NaN            NaN            NaN            NaN\n",
      "mean       NaN       0.500419       0.250143       2.502647      92.500000\n",
      "std        NaN       0.871832       0.504433       3.248248      44.288691\n",
      "min        NaN      -1.408605      -0.848218     -12.088328       0.000000\n",
      "25%        NaN      -0.072580      -0.200881       0.287748      56.497507\n",
      "50%        NaN       0.502360       0.250252       2.515969      91.849972\n",
      "75%        NaN       1.073581       0.700646       4.715088     128.564089\n",
      "max        NaN       2.362331       1.343769      16.003790     185.364347\n",
      "\n",
      "Number of zero values:\n",
      " id         0\n",
      "f0         0\n",
      "f1         0\n",
      "f2         0\n",
      "product    0\n",
      "dtype: int64\n",
      "\n",
      "Number of duplicates:\n",
      " 0\n",
      "Number of unique values in column \"id\":\n",
      " fiKDv    2\n",
      "QcMuo    2\n",
      "AGS9W    2\n",
      "Tdehs    2\n",
      "74z30    2\n",
      "        ..\n",
      "x8osI    1\n",
      "gZ7tR    1\n",
      "Zw8hj    1\n",
      "zcrQO    1\n",
      "1CWhH    1\n",
      "Name: id, Length: 99990, dtype: int64\n",
      "Correlation:\n",
      "                f0        f1        f2   product\n",
      "f0       1.000000 -0.440723 -0.003153  0.143536\n",
      "f1      -0.440723  1.000000  0.001724 -0.192356\n",
      "f2      -0.003153  0.001724  1.000000  0.483663\n",
      "product  0.143536 -0.192356  0.483663  1.000000\n"
     ]
    },
    {
     "name": "stderr",
     "output_type": "stream",
     "text": [
      "/var/folders/kr/l8l6g3315gj_6wm9tbxwybbh0000gn/T/ipykernel_2217/1415709672.py:10: FutureWarning: The default value of numeric_only in DataFrame.corr is deprecated. In a future version, it will default to False. Select only valid columns or specify the value of numeric_only to silence this warning.\n",
      "  print('Correlation:\\n', data.corr())\n"
     ]
    },
    {
     "name": "stdout",
     "output_type": "stream",
     "text": [
      "\n",
      "Distribution of feature values:\n",
      "\n"
     ]
    },
    {
     "data": {
      "image/png": "[encoded data removed]",
      "text/plain": [
       "<Figure size 640x480 with 4 Axes>"
      ]
     },
     "metadata": {},
     "output_type": "display_data"
    }
   ],
   "source": [
    "data_info(data0)"
   ]
  },
  {
   "cell_type": "markdown",
   "id": "99e81350",
   "metadata": {},
   "source": [
    "We see a correlation between f2 and product = 0.48"
   ]
  },
  {
   "cell_type": "code",
   "execution_count": 8,
   "id": "67fe1ac6",
   "metadata": {
    "ExecuteTime": {
     "end_time": "2023-09-07T19:26:34.274065Z",
     "start_time": "2023-09-07T19:26:33.212815Z"
    },
    "scrolled": true
   },
   "outputs": [
    {
     "name": "stdout",
     "output_type": "stream",
     "text": [
      "Table top:\n",
      "       id         f0         f1        f2     product\n",
      "0  kBEdx -15.001348  -8.276000 -0.005876    3.179103\n",
      "1  62mP7  14.272088  -3.475083  0.999183   26.953261\n",
      "2  vyE1P   6.263187  -5.948386  5.001160  134.766305\n",
      "3  KcrkZ -13.081196 -11.506057  4.999415  137.945408\n",
      "4  AHL4O  12.702195  -8.147433  5.004363  134.766305\n",
      "\n",
      "<class 'pandas.core.frame.DataFrame'>\n",
      "RangeIndex: 100000 entries, 0 to 99999\n",
      "Data columns (total 5 columns):\n",
      " #   Column   Non-Null Count   Dtype  \n",
      "---  ------   --------------   -----  \n",
      " 0   id       100000 non-null  object \n",
      " 1   f0       100000 non-null  float64\n",
      " 2   f1       100000 non-null  float64\n",
      " 3   f2       100000 non-null  float64\n",
      " 4   product  100000 non-null  float64\n",
      "dtypes: float64(4), object(1)\n",
      "memory usage: 3.8+ MB\n",
      "Basic information about the table:\n",
      " None\n",
      "\n",
      "Distribution of table values:\n",
      "             id             f0             f1             f2        product\n",
      "count   100000  100000.000000  100000.000000  100000.000000  100000.000000\n",
      "unique   99996            NaN            NaN            NaN            NaN\n",
      "top      wt4Uk            NaN            NaN            NaN            NaN\n",
      "freq         2            NaN            NaN            NaN            NaN\n",
      "mean       NaN       1.141296      -4.796579       2.494541      68.825000\n",
      "std        NaN       8.965932       5.119872       1.703572      45.944423\n",
      "min        NaN     -31.609576     -26.358598      -0.018144       0.000000\n",
      "25%        NaN      -6.298551      -8.267985       1.000021      26.953261\n",
      "50%        NaN       1.153055      -4.813172       2.011479      57.085625\n",
      "75%        NaN       8.621015      -1.332816       3.999904     107.813044\n",
      "max        NaN      29.421755      18.734063       5.019721     137.945408\n",
      "\n",
      "Number of zero values:\n",
      " id         0\n",
      "f0         0\n",
      "f1         0\n",
      "f2         0\n",
      "product    0\n",
      "dtype: int64\n",
      "\n",
      "Number of duplicates:\n",
      " 0\n",
      "Number of unique values in column \"id\":\n",
      " wt4Uk    2\n",
      "LHZR0    2\n",
      "5ltQ6    2\n",
      "bfPNe    2\n",
      "kBEdx    1\n",
      "        ..\n",
      "eup2F    1\n",
      "5Z8yO    1\n",
      "HwvM0    1\n",
      "MZgPf    1\n",
      "relB0    1\n",
      "Name: id, Length: 99996, dtype: int64\n",
      "Correlation:\n",
      "                f0        f1        f2   product\n",
      "f0       1.000000  0.182287 -0.001777 -0.030491\n",
      "f1       0.182287  1.000000 -0.002595 -0.010155\n",
      "f2      -0.001777 -0.002595  1.000000  0.999397\n",
      "product -0.030491 -0.010155  0.999397  1.000000\n"
     ]
    },
    {
     "name": "stderr",
     "output_type": "stream",
     "text": [
      "/var/folders/kr/l8l6g3315gj_6wm9tbxwybbh0000gn/T/ipykernel_2217/1415709672.py:10: FutureWarning: The default value of numeric_only in DataFrame.corr is deprecated. In a future version, it will default to False. Select only valid columns or specify the value of numeric_only to silence this warning.\n",
      "  print('Correlation:\\n', data.corr())\n"
     ]
    },
    {
     "name": "stdout",
     "output_type": "stream",
     "text": [
      "\n",
      "Distribution of feature values:\n",
      "\n"
     ]
    },
    {
     "data": {
      "image/png": "[encoded data removed]",
      "text/plain": [
       "<Figure size 640x480 with 4 Axes>"
      ]
     },
     "metadata": {},
     "output_type": "display_data"
    }
   ],
   "source": [
    "data_info(data1)"
   ]
  },
  {
   "cell_type": "markdown",
   "id": "869a9200",
   "metadata": {},
   "source": [
    "We see a correlation between f2 and product = 0.99"
   ]
  },
  {
   "cell_type": "code",
   "execution_count": 9,
   "id": "2e54d9f8",
   "metadata": {
    "ExecuteTime": {
     "end_time": "2023-09-07T19:26:35.267654Z",
     "start_time": "2023-09-07T19:26:34.278795Z"
    },
    "scrolled": false
   },
   "outputs": [
    {
     "name": "stdout",
     "output_type": "stream",
     "text": [
      "Table top:\n",
      "       id        f0        f1        f2     product\n",
      "0  fwXo0 -1.146987  0.963328 -0.828965   27.758673\n",
      "1  WJtFt  0.262778  0.269839 -2.530187   56.069697\n",
      "2  ovLUW  0.194587  0.289035 -5.586433   62.871910\n",
      "3  q6cA6  2.236060 -0.553760  0.930038  114.572842\n",
      "4  WPMUX -0.515993  1.716266  5.899011  149.600746\n",
      "\n",
      "<class 'pandas.core.frame.DataFrame'>\n",
      "RangeIndex: 100000 entries, 0 to 99999\n",
      "Data columns (total 5 columns):\n",
      " #   Column   Non-Null Count   Dtype  \n",
      "---  ------   --------------   -----  \n",
      " 0   id       100000 non-null  object \n",
      " 1   f0       100000 non-null  float64\n",
      " 2   f1       100000 non-null  float64\n",
      " 3   f2       100000 non-null  float64\n",
      " 4   product  100000 non-null  float64\n",
      "dtypes: float64(4), object(1)\n",
      "memory usage: 3.8+ MB\n",
      "Basic information about the table:\n",
      " None\n",
      "\n",
      "Distribution of table values:\n",
      "             id             f0             f1             f2        product\n",
      "count   100000  100000.000000  100000.000000  100000.000000  100000.000000\n",
      "unique   99996            NaN            NaN            NaN            NaN\n",
      "top      VF7Jo            NaN            NaN            NaN            NaN\n",
      "freq         2            NaN            NaN            NaN            NaN\n",
      "mean       NaN       0.002023      -0.002081       2.495128      95.000000\n",
      "std        NaN       1.732045       1.730417       3.473445      44.749921\n",
      "min        NaN      -8.760004      -7.084020     -11.970335       0.000000\n",
      "25%        NaN      -1.162288      -1.174820       0.130359      59.450441\n",
      "50%        NaN       0.009424      -0.009482       2.484236      94.925613\n",
      "75%        NaN       1.158535       1.163678       4.858794     130.595027\n",
      "max        NaN       7.238262       7.844801      16.739402     190.029838\n",
      "\n",
      "Number of zero values:\n",
      " id         0\n",
      "f0         0\n",
      "f1         0\n",
      "f2         0\n",
      "product    0\n",
      "dtype: int64\n",
      "\n",
      "Number of duplicates:\n",
      " 0\n",
      "Number of unique values in column \"id\":\n",
      " VF7Jo    2\n",
      "KUPhW    2\n",
      "xCHr8    2\n",
      "Vcm5J    2\n",
      "fwXo0    1\n",
      "        ..\n",
      "bdHH6    1\n",
      "copuS    1\n",
      "hZYbu    1\n",
      "7K1cP    1\n",
      "V9kWn    1\n",
      "Name: id, Length: 99996, dtype: int64\n",
      "Correlation:\n",
      "                f0        f1        f2   product\n",
      "f0       1.000000  0.000528 -0.000448 -0.001987\n",
      "f1       0.000528  1.000000  0.000779 -0.001012\n",
      "f2      -0.000448  0.000779  1.000000  0.445871\n",
      "product -0.001987 -0.001012  0.445871  1.000000\n",
      "\n",
      "Distribution of feature values:\n",
      "\n"
     ]
    },
    {
     "name": "stderr",
     "output_type": "stream",
     "text": [
      "/var/folders/kr/l8l6g3315gj_6wm9tbxwybbh0000gn/T/ipykernel_2217/1415709672.py:10: FutureWarning: The default value of numeric_only in DataFrame.corr is deprecated. In a future version, it will default to False. Select only valid columns or specify the value of numeric_only to silence this warning.\n",
      "  print('Correlation:\\n', data.corr())\n"
     ]
    },
    {
     "data": {
      "image/png": "[encoded data removed]",
      "text/plain": [
       "<Figure size 640x480 with 4 Axes>"
      ]
     },
     "metadata": {},
     "output_type": "display_data"
    }
   ],
   "source": [
    "data_info(data2)"
   ]
  },
  {
   "cell_type": "markdown",
   "id": "f7ef8562",
   "metadata": {},
   "source": [
    "We see a correlation between f2 and product = 0.44"
   ]
  },
  {
   "cell_type": "markdown",
   "id": "ecfb6e90",
   "metadata": {},
   "source": [
    "As you can see, the values ​​of f2 in the second well (data1) have an unusual distribution, while the values ​​of the remaining features in all wells have a normal distribution.\n",
    "\n",
    "The correlation of the second feature (f2) and the volume of oil (product) in the second (data1) region is very high (0.99)"
   ]
  },
  {
   "cell_type": "markdown",
   "id": "78f94197",
   "metadata": {},
   "source": [
    "No gaps or other anomalies are visible\n",
    "\n",
    "The tables contain the following data:\n",
    "\n",
    "**id** — unique well identifier;\n",
    "\n",
    "**f0, f1, f2** - three signs of points (it doesn't matter what they mean, but the signs themselves are significant);\n",
    "\n",
    "**product** — volume of reserves in the well (thousand barrels)."
   ]
  },
  {
   "cell_type": "markdown",
   "id": "e7d76386",
   "metadata": {},
   "source": [
    "As you can see, the data for some wells are repeated."
   ]
  },
  {
   "cell_type": "markdown",
   "id": "ab1d1d82",
   "metadata": {},
   "source": [
    "## Training and checking models"
   ]
  },
  {
   "cell_type": "markdown",
   "id": "aa36ba49",
   "metadata": {},
   "source": [
    "Since all procedures for three wells will be the same, it will be more convenient to write a function"
   ]
  },
  {
   "cell_type": "markdown",
   "id": "f1911629",
   "metadata": {},
   "source": [
    "### Let's write a function that will:\n",
    "#### split the data into training and validation samples in the ratio of 75:25\n",
    "#### train the model and make predictions on the validation set\n",
    "#### store predictions and correct answers on the validation set\n",
    "#### print on the screen the average stock of predicted raw materials and the RMSE of the model"
   ]
  },
  {
   "cell_type": "code",
   "execution_count": 10,
   "id": "21354f99",
   "metadata": {
    "ExecuteTime": {
     "end_time": "2023-09-07T19:26:35.287166Z",
     "start_time": "2023-09-07T19:26:35.276986Z"
    }
   },
   "outputs": [],
   "source": [
    "def training(data):\n",
    "    \n",
    "    features = data.drop(['product','id'], axis=1)\n",
    "    target = data['product']\n",
    "    features_train, features_valid, target_train, target_valid = (\n",
    "        train_test_split(features, target, test_size=0.25,\n",
    "                         random_state=12345)) \n",
    "    scaler = StandardScaler()\n",
    "    features_train = scaler.fit_transform(features_train)\n",
    "    features_valid = scaler.transform(features_valid)\n",
    "    \n",
    "    model = LinearRegression()\n",
    "    model.fit(features_train, target_train)\n",
    "    predictions = model.predict(features_valid) \n",
    "    predictions = pd.Series(predictions)\n",
    "    rmse = (mean_squared_error(predictions, target_valid))**(0.5)\n",
    "    mean_product = sum(predictions) / len(predictions)\n",
    "    \n",
    "    print('RMSE: ', rmse)\n",
    "    print('Mean product: ', mean_product)\n",
    "    \n",
    "    return (predictions, target_valid.reset_index(drop=True), rmse)"
   ]
  },
  {
   "cell_type": "code",
   "execution_count": 11,
   "id": "dabcd6b6",
   "metadata": {
    "ExecuteTime": {
     "end_time": "2023-09-07T19:26:35.364501Z",
     "start_time": "2023-09-07T19:26:35.290730Z"
    }
   },
   "outputs": [
    {
     "name": "stdout",
     "output_type": "stream",
     "text": [
      "RMSE:  37.57942171508131\n",
      "Mean product:  92.59256778438008\n"
     ]
    },
    {
     "data": {
      "text/plain": [
       "(0         95.894952\n",
       " 1         77.572583\n",
       " 2         77.892640\n",
       " 3         90.175134\n",
       " 4         70.510088\n",
       "             ...    \n",
       " 24995    103.037104\n",
       " 24996     85.403255\n",
       " 24997     61.509833\n",
       " 24998    118.180397\n",
       " 24999    118.169392\n",
       " Length: 25000, dtype: float64,\n",
       " 0         10.038645\n",
       " 1        114.551489\n",
       " 2        132.603635\n",
       " 3        169.072125\n",
       " 4        122.325180\n",
       "             ...    \n",
       " 24995    170.116726\n",
       " 24996     93.632175\n",
       " 24997    127.352259\n",
       " 24998     99.782700\n",
       " 24999    177.821022\n",
       " Name: product, Length: 25000, dtype: float64,\n",
       " 37.57942171508131)"
      ]
     },
     "execution_count": 11,
     "metadata": {},
     "output_type": "execute_result"
    }
   ],
   "source": [
    "training(data0)"
   ]
  },
  {
   "cell_type": "code",
   "execution_count": 12,
   "id": "09122acd",
   "metadata": {
    "ExecuteTime": {
     "end_time": "2023-09-07T19:26:35.435103Z",
     "start_time": "2023-09-07T19:26:35.369216Z"
    }
   },
   "outputs": [
    {
     "name": "stdout",
     "output_type": "stream",
     "text": [
      "RMSE:  0.893099286775618\n",
      "Mean product:  68.72854689544583\n"
     ]
    },
    {
     "data": {
      "text/plain": [
       "(0         82.663314\n",
       " 1         54.431786\n",
       " 2         29.748760\n",
       " 3         53.552133\n",
       " 4          1.243856\n",
       "             ...    \n",
       " 24995    136.869211\n",
       " 24996    110.693465\n",
       " 24997    137.879341\n",
       " 24998     83.761966\n",
       " 24999     53.958466\n",
       " Length: 25000, dtype: float64,\n",
       " 0         80.859783\n",
       " 1         53.906522\n",
       " 2         30.132364\n",
       " 3         53.906522\n",
       " 4          0.000000\n",
       "             ...    \n",
       " 24995    137.945408\n",
       " 24996    110.992147\n",
       " 24997    137.945408\n",
       " 24998     84.038886\n",
       " 24999     53.906522\n",
       " Name: product, Length: 25000, dtype: float64,\n",
       " 0.893099286775618)"
      ]
     },
     "execution_count": 12,
     "metadata": {},
     "output_type": "execute_result"
    }
   ],
   "source": [
    "training(data1)"
   ]
  },
  {
   "cell_type": "code",
   "execution_count": 13,
   "id": "b6dd89fa",
   "metadata": {
    "ExecuteTime": {
     "end_time": "2023-09-07T19:26:35.502617Z",
     "start_time": "2023-09-07T19:26:35.439930Z"
    }
   },
   "outputs": [
    {
     "name": "stdout",
     "output_type": "stream",
     "text": [
      "RMSE:  40.02970873393434\n",
      "Mean product:  94.96504596800509\n"
     ]
    },
    {
     "data": {
      "text/plain": [
       "(0         93.599633\n",
       " 1         75.105159\n",
       " 2         90.066809\n",
       " 3        105.162375\n",
       " 4        115.303310\n",
       "             ...    \n",
       " 24995     78.765887\n",
       " 24996     95.603394\n",
       " 24997     99.407281\n",
       " 24998     77.779912\n",
       " 24999    129.032417\n",
       " Length: 25000, dtype: float64,\n",
       " 0         61.212375\n",
       " 1         41.850118\n",
       " 2         57.776581\n",
       " 3        100.053761\n",
       " 4        109.897122\n",
       "             ...    \n",
       " 24995     28.492402\n",
       " 24996     21.431303\n",
       " 24997    125.487229\n",
       " 24998     99.422903\n",
       " 24999    127.445075\n",
       " Name: product, Length: 25000, dtype: float64,\n",
       " 40.02970873393434)"
      ]
     },
     "execution_count": 13,
     "metadata": {},
     "output_type": "execute_result"
    }
   ],
   "source": [
    "training(data2)"
   ]
  },
  {
   "cell_type": "code",
   "execution_count": 14,
   "id": "0b0dd8ae",
   "metadata": {
    "ExecuteTime": {
     "end_time": "2023-09-07T19:26:35.565095Z",
     "start_time": "2023-09-07T19:26:35.507309Z"
    }
   },
   "outputs": [
    {
     "name": "stdout",
     "output_type": "stream",
     "text": [
      "RMSE:  37.57942171508131\n",
      "Mean product:  92.59256778438008\n"
     ]
    }
   ],
   "source": [
    "predictions0, target_valid0, rmse0 = training(data0)"
   ]
  },
  {
   "cell_type": "code",
   "execution_count": 15,
   "id": "bc57f7e8",
   "metadata": {
    "ExecuteTime": {
     "end_time": "2023-09-07T19:26:35.626680Z",
     "start_time": "2023-09-07T19:26:35.569287Z"
    }
   },
   "outputs": [
    {
     "name": "stdout",
     "output_type": "stream",
     "text": [
      "RMSE:  0.893099286775618\n",
      "Mean product:  68.72854689544583\n"
     ]
    }
   ],
   "source": [
    "predictions1, target_valid1, rmse1 = training(data1)"
   ]
  },
  {
   "cell_type": "code",
   "execution_count": 16,
   "id": "e5e8918c",
   "metadata": {
    "ExecuteTime": {
     "end_time": "2023-09-07T19:26:35.686758Z",
     "start_time": "2023-09-07T19:26:35.631183Z"
    }
   },
   "outputs": [
    {
     "name": "stdout",
     "output_type": "stream",
     "text": [
      "RMSE:  40.02970873393434\n",
      "Mean product:  94.96504596800509\n"
     ]
    }
   ],
   "source": [
    "predictions2, target_valid2, rmse2 = training(data2)"
   ]
  },
  {
   "cell_type": "markdown",
   "id": "a3e6b7f5",
   "metadata": {},
   "source": [
    "### Conclusion"
   ]
  },
  {
   "cell_type": "markdown",
   "id": "e3b6690d",
   "metadata": {},
   "source": [
    "We got the following results:\n",
    "\n",
    "data0 :\n",
    "\n",
    "RMSE: 37.57942171508131\n",
    "\n",
    "Mean product: 92.59256778438008\n",
    "\n",
    "data1:\n",
    "\n",
    "RMSE: 0.893099286775618\n",
    "\n",
    "Mean product: 68.72854689544583\n",
    "\n",
    "data2:\n",
    "\n",
    "RMSE: 40.02970873393434\n",
    "\n",
    "Mean product: 94.96504596800509\n",
    "\n",
    "\n",
    "The maximum average value in the third (data2) region, but do not forget that we will only need to explore the 200 best points in the region\n",
    "\n",
    "The smallest rmse in the second (data1) region"
   ]
  },
  {
   "cell_type": "markdown",
   "id": "7616f23f",
   "metadata": {},
   "source": [
    "## Preparation for profit calculation"
   ]
  },
  {
   "cell_type": "markdown",
   "id": "dbba39a6",
   "metadata": {},
   "source": [
    "### All key values ​​for calculations will be saved in separate variables."
   ]
  },
  {
   "cell_type": "code",
   "execution_count": 17,
   "id": "c5f6964b",
   "metadata": {
    "ExecuteTime": {
     "end_time": "2023-09-07T19:26:35.698819Z",
     "start_time": "2023-09-07T19:26:35.691103Z"
    }
   },
   "outputs": [],
   "source": [
    "BUDGET = 10 ** 10 # budget for well development in the region = 10 billion\n",
    "INCOME_FOR_PRODUCT = 450_000 # income from each unit of the product is 450 thousand rubles\n",
    "PROBABILITY_OF_LOSS = 2.5 # leave only those regions in which the probability of losses is less than 2.5%\n",
    "NUMBER_OF_DRILLING_POINTS = 200 # according to the condition, the number of points for drilling = 200"
   ]
  },
  {
   "cell_type": "markdown",
   "id": "edf578b1",
   "metadata": {},
   "source": [
    "### Let's calculate a sufficient volume of raw materials for break-even development of a new well. Let's compare the received volume of raw materials with the average stock in each region."
   ]
  },
  {
   "cell_type": "code",
   "execution_count": 18,
   "id": "7085859f",
   "metadata": {
    "ExecuteTime": {
     "end_time": "2023-09-07T19:26:35.710628Z",
     "start_time": "2023-09-07T19:26:35.703490Z"
    }
   },
   "outputs": [
    {
     "name": "stdout",
     "output_type": "stream",
     "text": [
      "Breaking point: 22222.22 barrels\n"
     ]
    }
   ],
   "source": [
    "ENOUGH_RAW_MATERIAL = BUDGET / INCOME_FOR_PRODUCT\n",
    "print(\"Breaking point: {0:.2f} barrels\".format(ENOUGH_RAW_MATERIAL))"
   ]
  },
  {
   "cell_type": "code",
   "execution_count": 19,
   "id": "85cffd10",
   "metadata": {
    "ExecuteTime": {
     "end_time": "2023-09-07T19:26:35.723551Z",
     "start_time": "2023-09-07T19:26:35.715961Z"
    }
   },
   "outputs": [
    {
     "name": "stdout",
     "output_type": "stream",
     "text": [
      "Average volume of oil in a well for breakeven operation: 112\n"
     ]
    }
   ],
   "source": [
    "print(\"Average volume of oil in a well for breakeven operation:\", math.ceil(ENOUGH_RAW_MATERIAL/200))"
   ]
  },
  {
   "cell_type": "markdown",
   "id": "585e96a0",
   "metadata": {},
   "source": [
    "### Let's write the conclusions on the stage of preparing the profit calculation."
   ]
  },
  {
   "cell_type": "markdown",
   "id": "cea8e787",
   "metadata": {},
   "source": [
    "On average, the stock of raw materials in wells is less than the break-even point, so it is important to choose exactly the right region, and 200 points with the largest reserves"
   ]
  },
  {
   "cell_type": "markdown",
   "id": "acb3efc5",
   "metadata": {},
   "source": [
    "## Write a function to calculate profit for selected wells and model predictions"
   ]
  },
  {
   "cell_type": "markdown",
   "id": "0bd52251",
   "metadata": {},
   "source": [
    "### Let's select wells with maximum prediction values."
   ]
  },
  {
   "cell_type": "code",
   "execution_count": 20,
   "id": "c19adb02",
   "metadata": {
    "ExecuteTime": {
     "end_time": "2023-09-07T19:26:35.755685Z",
     "start_time": "2023-09-07T19:26:35.728427Z"
    }
   },
   "outputs": [
    {
     "data": {
      "text/plain": [
       "9317     180.180713\n",
       "219      176.252213\n",
       "10015    175.850623\n",
       "11584    175.658429\n",
       "23388    173.299686\n",
       "            ...    \n",
       "23129     10.209351\n",
       "9078       8.798531\n",
       "21875      6.569477\n",
       "14503      4.980987\n",
       "20881     -9.367846\n",
       "Length: 25000, dtype: float64"
      ]
     },
     "execution_count": 20,
     "metadata": {},
     "output_type": "execute_result"
    }
   ],
   "source": [
    "predictions0.sort_values(ascending=False)"
   ]
  },
  {
   "cell_type": "code",
   "execution_count": 21,
   "id": "03a5a741",
   "metadata": {
    "ExecuteTime": {
     "end_time": "2023-09-07T19:26:35.788858Z",
     "start_time": "2023-09-07T19:26:35.761855Z"
    }
   },
   "outputs": [
    {
     "data": {
      "text/plain": [
       "9317     180.180713\n",
       "219      176.252213\n",
       "10015    175.850623\n",
       "11584    175.658429\n",
       "23388    173.299686\n",
       "            ...    \n",
       "7888     148.507064\n",
       "7890     148.481767\n",
       "24051    148.476498\n",
       "24160    148.436761\n",
       "20340    148.365941\n",
       "Length: 200, dtype: float64"
      ]
     },
     "execution_count": 21,
     "metadata": {},
     "output_type": "execute_result"
    }
   ],
   "source": [
    "predictions0.sort_values(ascending=False)[:200]"
   ]
  },
  {
   "cell_type": "markdown",
   "id": "c9a4d368",
   "metadata": {},
   "source": [
    "### Let's sum up the target volume of raw materials corresponding to these predictions."
   ]
  },
  {
   "cell_type": "code",
   "execution_count": 22,
   "id": "bc99ad45",
   "metadata": {
    "ExecuteTime": {
     "end_time": "2023-09-07T19:26:35.810947Z",
     "start_time": "2023-09-07T19:26:35.793735Z"
    }
   },
   "outputs": [
    {
     "data": {
      "text/plain": [
       "31102.33083881139"
      ]
     },
     "execution_count": 22,
     "metadata": {},
     "output_type": "execute_result"
    }
   ],
   "source": [
    "sum(predictions0.sort_values(ascending=False)[:200])"
   ]
  },
  {
   "cell_type": "markdown",
   "id": "6dcbed52",
   "metadata": {},
   "source": [
    "### Let's calculate the profit for the received volume of raw materials."
   ]
  },
  {
   "cell_type": "code",
   "execution_count": 23,
   "id": "e336079e",
   "metadata": {
    "ExecuteTime": {
     "end_time": "2023-09-07T19:26:35.831783Z",
     "start_time": "2023-09-07T19:26:35.815046Z"
    }
   },
   "outputs": [
    {
     "data": {
      "text/plain": [
       "13996048877.465126"
      ]
     },
     "execution_count": 23,
     "metadata": {},
     "output_type": "execute_result"
    }
   ],
   "source": [
    "income0 = sum(\n",
    "    predictions0.sort_values(ascending=False)[:200]) * INCOME_FOR_PRODUCT\n",
    "income0"
   ]
  },
  {
   "cell_type": "code",
   "execution_count": 24,
   "id": "e76386a9",
   "metadata": {
    "ExecuteTime": {
     "end_time": "2023-09-07T19:26:35.845626Z",
     "start_time": "2023-09-07T19:26:35.836442Z"
    }
   },
   "outputs": [
    {
     "name": "stdout",
     "output_type": "stream",
     "text": [
      "Profit from 200 points of the zero region, million rubles: 3996.048877465126\n"
     ]
    }
   ],
   "source": [
    "print('Profit from 200 points of the zero region, million rubles:', (income0 - BUDGET)/1000000)"
   ]
  },
  {
   "cell_type": "markdown",
   "id": "89f8dfe5",
   "metadata": {},
   "source": [
    "Received a profit of almost 4 billion rubles"
   ]
  },
  {
   "cell_type": "markdown",
   "id": "14d82592",
   "metadata": {},
   "source": [
    "Now, for simplicity, we write a function"
   ]
  },
  {
   "cell_type": "code",
   "execution_count": 25,
   "id": "10213308",
   "metadata": {
    "ExecuteTime": {
     "end_time": "2023-09-07T19:26:35.861153Z",
     "start_time": "2023-09-07T19:26:35.852089Z"
    }
   },
   "outputs": [],
   "source": [
    "def profit(target, predictions):\n",
    "    predictions_sort = pd.Series(predictions).sort_values(ascending=False)[:NUMBER_OF_DRILLING_POINTS]\n",
    "    target_sort = target.reset_index(drop = True)[predictions_sort.index]\n",
    "    income = target_sort.sum()\n",
    "    return round((income * INCOME_FOR_PRODUCT) - BUDGET)"
   ]
  },
  {
   "cell_type": "code",
   "execution_count": 26,
   "id": "8a15ea8e",
   "metadata": {
    "ExecuteTime": {
     "end_time": "2023-09-07T19:26:35.880846Z",
     "start_time": "2023-09-07T19:26:35.866028Z"
    }
   },
   "outputs": [
    {
     "name": "stdout",
     "output_type": "stream",
     "text": [
      "Profit of the zero region, billion rubles: 3.321\n"
     ]
    }
   ],
   "source": [
    "print('Profit of the zero region, billion rubles: {:.3f}'.format((\n",
    "    profit(target_valid0, predictions0)/1000000000)))"
   ]
  },
  {
   "cell_type": "code",
   "execution_count": 27,
   "id": "f8b57c8b",
   "metadata": {
    "ExecuteTime": {
     "end_time": "2023-09-07T19:26:35.903998Z",
     "start_time": "2023-09-07T19:26:35.886353Z"
    }
   },
   "outputs": [
    {
     "name": "stdout",
     "output_type": "stream",
     "text": [
      "Profit of the first region, billion rubles: 2.415\n"
     ]
    }
   ],
   "source": [
    "print('Profit of the first region, billion rubles: {:.3f}'.format((\n",
    "    profit(target_valid1, predictions1)/1000000000)))"
   ]
  },
  {
   "cell_type": "code",
   "execution_count": 28,
   "id": "039b224c",
   "metadata": {
    "ExecuteTime": {
     "end_time": "2023-09-07T19:26:35.935832Z",
     "start_time": "2023-09-07T19:26:35.921890Z"
    }
   },
   "outputs": [
    {
     "name": "stdout",
     "output_type": "stream",
     "text": [
      "Profit of the second region, billion rubles: 2.710\n"
     ]
    }
   ],
   "source": [
    "print('Profit of the second region, billion rubles: {:.3f}'.format((\n",
    "    profit(target_valid2, predictions2)/1000000000)))"
   ]
  },
  {
   "cell_type": "markdown",
   "id": "f66cb586",
   "metadata": {},
   "source": [
    "### Conclusion"
   ]
  },
  {
   "cell_type": "markdown",
   "id": "ab629a0e",
   "metadata": {},
   "source": [
    "Received a profit of 3.321 billion in the zero region, 2.415 billion in the first and 2.71 billion in the second"
   ]
  },
  {
   "cell_type": "markdown",
   "id": "f9332559",
   "metadata": {},
   "source": [
    "## Calculate risks and rewards for each region"
   ]
  },
  {
   "cell_type": "markdown",
   "id": "90ccf648",
   "metadata": {},
   "source": [
    "### Let's use the Bootstrap technique with 1000 samples to find the profit distribution."
   ]
  },
  {
   "cell_type": "markdown",
   "id": "ff82a951",
   "metadata": {},
   "source": [
    "#### Write a function"
   ]
  },
  {
   "cell_type": "code",
   "execution_count": 29,
   "id": "921b7828",
   "metadata": {
    "ExecuteTime": {
     "end_time": "2023-09-07T19:26:35.951167Z",
     "start_time": "2023-09-07T19:26:35.939547Z"
    }
   },
   "outputs": [],
   "source": [
    "def mean_profit(target_valid, predictions): \n",
    "\n",
    "    values = []\n",
    "    for i in range(1000):\n",
    "        predictions_subsample = predictions.sample(n = 500, replace=True,\n",
    "                                               random_state=state)\n",
    "        values.append(profit(target_valid, predictions_subsample))\n",
    "\n",
    "    values = pd.Series(values)\n",
    "    lower = values.quantile(0.025)\n",
    "    upper = values.quantile(0.975)\n",
    "    mean_profit_value = values.mean()\n",
    "    print('Minimum Profit:', values.min())\n",
    "    print('Average profit:', mean_profit_value)\n",
    "    print('2.5% quantile:', lower)\n",
    "    print('97.5% quantile:', upper)\n",
    "    print('Risk of loss:', (values < 0).sum()/len(values))\n",
    "    \n",
    "    return lower, upper"
   ]
  },
  {
   "cell_type": "markdown",
   "id": "128ca58b",
   "metadata": {},
   "source": [
    "### Let's find the average profit, 95% confidence interval and risk of loss. Loss is negative profit"
   ]
  },
  {
   "cell_type": "code",
   "execution_count": 30,
   "id": "f99de27b",
   "metadata": {
    "ExecuteTime": {
     "end_time": "2023-09-07T19:26:37.795496Z",
     "start_time": "2023-09-07T19:26:35.955332Z"
    }
   },
   "outputs": [
    {
     "name": "stdout",
     "output_type": "stream",
     "text": [
      "Minimum Profit: -369567119\n",
      "Average profit: 396164984.807\n",
      "2.5% quantile: -111215545.6\n",
      "97.5% quantile: 909766941.4999999\n",
      "Risk of loss: 0.069\n"
     ]
    },
    {
     "data": {
      "text/plain": [
       "(-111215545.6, 909766941.4999999)"
      ]
     },
     "execution_count": 30,
     "metadata": {},
     "output_type": "execute_result"
    }
   ],
   "source": [
    "mean_profit(target_valid0, predictions0)"
   ]
  },
  {
   "cell_type": "code",
   "execution_count": 31,
   "id": "dfd69d27",
   "metadata": {
    "ExecuteTime": {
     "end_time": "2023-09-07T19:26:39.782266Z",
     "start_time": "2023-09-07T19:26:37.800197Z"
    }
   },
   "outputs": [
    {
     "name": "stdout",
     "output_type": "stream",
     "text": [
      "Minimum Profit: -143005841\n",
      "Average profit: 461155817.281\n",
      "2.5% quantile: 78050810.35000001\n",
      "97.5% quantile: 862952060.0\n",
      "Risk of loss: 0.007\n"
     ]
    },
    {
     "data": {
      "text/plain": [
       "(78050810.35000001, 862952060.0)"
      ]
     },
     "execution_count": 31,
     "metadata": {},
     "output_type": "execute_result"
    }
   ],
   "source": [
    "mean_profit(target_valid1, predictions1)"
   ]
  },
  {
   "cell_type": "code",
   "execution_count": 32,
   "id": "21849b36",
   "metadata": {
    "ExecuteTime": {
     "end_time": "2023-09-07T19:26:41.322136Z",
     "start_time": "2023-09-07T19:26:39.788294Z"
    }
   },
   "outputs": [
    {
     "name": "stdout",
     "output_type": "stream",
     "text": [
      "Minimum Profit: -345805498\n",
      "Average profit: 392950475.171\n",
      "2.5% quantile: -112227625.75\n",
      "97.5% quantile: 934562914.6999998\n",
      "Risk of loss: 0.065\n"
     ]
    },
    {
     "data": {
      "text/plain": [
       "(-112227625.75, 934562914.6999998)"
      ]
     },
     "execution_count": 32,
     "metadata": {},
     "output_type": "execute_result"
    }
   ],
   "source": [
    "mean_profit(target_valid2, predictions2)"
   ]
  },
  {
   "cell_type": "markdown",
   "id": "f524a6b6",
   "metadata": {},
   "source": [
    "Only the second (data1) region has a risk of loss of less than two percent"
   ]
  },
  {
   "cell_type": "markdown",
   "id": "6c6f813e",
   "metadata": {},
   "source": [
    "### Let's write conclusions: we will propose a region for well development and justify the choice"
   ]
  },
  {
   "cell_type": "markdown",
   "id": "6909cc58",
   "metadata": {},
   "source": [
    "It can be seen from the table that the only region where the probability of losses is lower than the allowable value is the second one (data1), so it is necessary to select it for well development.\n",
    "\n",
    "The second region also has the highest average profit."
   ]
  }
 ],
 "metadata": {
  "ExecuteTimeLog": [
   {
    "duration": 7741,
    "start_time": "2023-04-11T05:38:06.831Z"
   },
   {
    "duration": 848,
    "start_time": "2023-04-11T05:38:14.574Z"
   },
   {
    "duration": 204,
    "start_time": "2023-04-11T05:38:15.424Z"
   },
   {
    "duration": 212,
    "start_time": "2023-04-11T05:38:15.630Z"
   },
   {
    "duration": 3,
    "start_time": "2023-04-11T05:38:15.844Z"
   },
   {
    "duration": 5,
    "start_time": "2023-04-11T05:38:15.849Z"
   },
   {
    "duration": 563,
    "start_time": "2023-04-11T05:38:15.856Z"
   },
   {
    "duration": 523,
    "start_time": "2023-04-11T05:38:16.421Z"
   },
   {
    "duration": 660,
    "start_time": "2023-04-11T05:38:16.945Z"
   },
   {
    "duration": 12,
    "start_time": "2023-04-11T05:38:17.607Z"
   },
   {
    "duration": 86,
    "start_time": "2023-04-11T05:38:17.621Z"
   },
   {
    "duration": 186,
    "start_time": "2023-04-11T05:38:17.709Z"
   },
   {
    "duration": 211,
    "start_time": "2023-04-11T05:38:17.897Z"
   },
   {
    "duration": 115,
    "start_time": "2023-04-11T05:38:18.112Z"
   },
   {
    "duration": 118,
    "start_time": "2023-04-11T05:38:18.296Z"
   },
   {
    "duration": 198,
    "start_time": "2023-04-11T05:38:18.416Z"
   },
   {
    "duration": 4,
    "start_time": "2023-04-11T05:38:18.697Z"
   },
   {
    "duration": 96,
    "start_time": "2023-04-11T05:38:18.703Z"
   },
   {
    "duration": 4,
    "start_time": "2023-04-11T05:38:18.801Z"
   },
   {
    "duration": 25,
    "start_time": "2023-04-11T05:38:18.807Z"
   },
   {
    "duration": 17,
    "start_time": "2023-04-11T05:38:18.834Z"
   },
   {
    "duration": 7,
    "start_time": "2023-04-11T05:38:18.853Z"
   },
   {
    "duration": 16,
    "start_time": "2023-04-11T05:38:18.862Z"
   },
   {
    "duration": 4,
    "start_time": "2023-04-11T05:38:18.880Z"
   },
   {
    "duration": 21,
    "start_time": "2023-04-11T05:38:18.893Z"
   },
   {
    "duration": 21,
    "start_time": "2023-04-11T05:38:18.916Z"
   },
   {
    "duration": 13,
    "start_time": "2023-04-11T05:38:18.938Z"
   },
   {
    "duration": 7,
    "start_time": "2023-04-11T05:38:18.953Z"
   },
   {
    "duration": 5,
    "start_time": "2023-04-11T05:38:18.962Z"
   },
   {
    "duration": 4608,
    "start_time": "2023-04-11T05:38:18.968Z"
   },
   {
    "duration": 4726,
    "start_time": "2023-04-11T05:38:23.579Z"
   },
   {
    "duration": 4740,
    "start_time": "2023-04-11T05:38:28.307Z"
   },
   {
    "duration": 6,
    "start_time": "2023-04-11T05:38:44.624Z"
   },
   {
    "duration": 5,
    "start_time": "2023-04-11T05:45:57.372Z"
   },
   {
    "duration": 1675,
    "start_time": "2023-04-11T20:03:26.255Z"
   },
   {
    "duration": 583,
    "start_time": "2023-04-11T20:03:27.932Z"
   },
   {
    "duration": 209,
    "start_time": "2023-04-11T20:03:28.517Z"
   },
   {
    "duration": 211,
    "start_time": "2023-04-11T20:03:28.728Z"
   },
   {
    "duration": 3,
    "start_time": "2023-04-11T20:03:28.941Z"
   },
   {
    "duration": 5,
    "start_time": "2023-04-11T20:03:28.946Z"
   },
   {
    "duration": 560,
    "start_time": "2023-04-11T20:03:28.953Z"
   },
   {
    "duration": 542,
    "start_time": "2023-04-11T20:03:29.515Z"
   },
   {
    "duration": 609,
    "start_time": "2023-04-11T20:03:30.059Z"
   },
   {
    "duration": 14,
    "start_time": "2023-04-11T20:03:30.671Z"
   },
   {
    "duration": 113,
    "start_time": "2023-04-11T20:03:30.688Z"
   },
   {
    "duration": 106,
    "start_time": "2023-04-11T20:03:30.886Z"
   },
   {
    "duration": 199,
    "start_time": "2023-04-11T20:03:30.994Z"
   },
   {
    "duration": 191,
    "start_time": "2023-04-11T20:03:31.195Z"
   },
   {
    "duration": 196,
    "start_time": "2023-04-11T20:03:31.391Z"
   },
   {
    "duration": 197,
    "start_time": "2023-04-11T20:03:31.589Z"
   },
   {
    "duration": 98,
    "start_time": "2023-04-11T20:03:31.789Z"
   },
   {
    "duration": 35,
    "start_time": "2023-04-11T20:03:31.888Z"
   },
   {
    "duration": 20,
    "start_time": "2023-04-11T20:03:31.925Z"
   },
   {
    "duration": 56,
    "start_time": "2023-04-11T20:03:31.946Z"
   },
   {
    "duration": 175,
    "start_time": "2023-04-11T20:03:32.004Z"
   },
   {
    "duration": 36,
    "start_time": "2023-04-11T20:03:32.181Z"
   },
   {
    "duration": 26,
    "start_time": "2023-04-11T20:03:32.219Z"
   },
   {
    "duration": 13,
    "start_time": "2023-04-11T20:03:32.247Z"
   },
   {
    "duration": 31,
    "start_time": "2023-04-11T20:03:32.262Z"
   },
   {
    "duration": 18,
    "start_time": "2023-04-11T20:03:32.295Z"
   },
   {
    "duration": 16,
    "start_time": "2023-04-11T20:03:32.315Z"
   },
   {
    "duration": 7,
    "start_time": "2023-04-11T20:03:32.334Z"
   },
   {
    "duration": 7,
    "start_time": "2023-04-11T20:03:32.342Z"
   },
   {
    "duration": 4422,
    "start_time": "2023-04-11T20:03:32.351Z"
   },
   {
    "duration": 4282,
    "start_time": "2023-04-11T20:03:36.775Z"
   },
   {
    "duration": 4371,
    "start_time": "2023-04-11T20:03:41.058Z"
   },
   {
    "duration": 5,
    "start_time": "2023-04-11T20:07:56.042Z"
   },
   {
    "duration": 563,
    "start_time": "2023-04-11T20:07:58.155Z"
   },
   {
    "duration": 516,
    "start_time": "2023-04-11T20:08:07.512Z"
   },
   {
    "duration": 519,
    "start_time": "2023-04-11T20:08:08.295Z"
   },
   {
    "duration": 5,
    "start_time": "2023-04-11T20:08:59.628Z"
   },
   {
    "duration": 569,
    "start_time": "2023-04-11T20:09:01.044Z"
   },
   {
    "duration": 6,
    "start_time": "2023-04-11T20:10:01.802Z"
   },
   {
    "duration": 962,
    "start_time": "2023-04-11T20:10:03.370Z"
   },
   {
    "duration": 5,
    "start_time": "2023-04-11T20:10:39.498Z"
   },
   {
    "duration": 586,
    "start_time": "2023-04-11T20:10:40.296Z"
   },
   {
    "duration": 579,
    "start_time": "2023-04-11T20:11:02.083Z"
   },
   {
    "duration": 544,
    "start_time": "2023-04-11T20:11:02.664Z"
   },
   {
    "duration": 4,
    "start_time": "2023-04-11T20:20:53.679Z"
   },
   {
    "duration": 3,
    "start_time": "2023-04-11T20:21:02.270Z"
   },
   {
    "duration": 3,
    "start_time": "2023-04-11T20:21:42.199Z"
   },
   {
    "duration": 4,
    "start_time": "2023-04-11T20:21:49.017Z"
   },
   {
    "duration": 4,
    "start_time": "2023-04-11T20:22:39.491Z"
   },
   {
    "duration": 7,
    "start_time": "2023-04-11T20:22:41.349Z"
   },
   {
    "duration": 3,
    "start_time": "2023-04-11T20:22:42.203Z"
   },
   {
    "duration": 9,
    "start_time": "2023-04-11T20:26:30.722Z"
   },
   {
    "duration": 7,
    "start_time": "2023-04-11T20:26:44.064Z"
   },
   {
    "duration": 7,
    "start_time": "2023-04-11T20:26:44.601Z"
   },
   {
    "duration": 5,
    "start_time": "2023-04-11T20:27:18.490Z"
   },
   {
    "duration": 4438,
    "start_time": "2023-04-11T20:27:20.880Z"
   },
   {
    "duration": 4560,
    "start_time": "2023-04-11T20:27:25.320Z"
   },
   {
    "duration": 4634,
    "start_time": "2023-04-11T20:27:29.882Z"
   },
   {
    "duration": 5,
    "start_time": "2023-04-11T21:01:10.005Z"
   },
   {
    "duration": 6,
    "start_time": "2023-04-11T21:01:16.857Z"
   },
   {
    "duration": 5,
    "start_time": "2023-04-11T21:03:37.301Z"
   },
   {
    "duration": 106,
    "start_time": "2023-04-11T21:03:53.273Z"
   },
   {
    "duration": 9,
    "start_time": "2023-04-11T21:03:58.779Z"
   },
   {
    "duration": 8,
    "start_time": "2023-04-11T21:04:17.810Z"
   },
   {
    "duration": 8,
    "start_time": "2023-04-11T21:04:19.633Z"
   },
   {
    "duration": 93,
    "start_time": "2023-04-11T21:07:03.093Z"
   },
   {
    "duration": 40,
    "start_time": "2023-04-11T21:07:07.869Z"
   },
   {
    "duration": 92,
    "start_time": "2023-04-11T21:07:14.300Z"
   },
   {
    "duration": 9,
    "start_time": "2023-04-11T21:08:27.410Z"
   },
   {
    "duration": 3,
    "start_time": "2023-04-11T21:12:36.752Z"
   },
   {
    "duration": 9,
    "start_time": "2023-04-11T21:12:37.922Z"
   },
   {
    "duration": 9,
    "start_time": "2023-04-11T21:12:39.227Z"
   },
   {
    "duration": 9,
    "start_time": "2023-04-11T21:12:40.445Z"
   },
   {
    "duration": 3,
    "start_time": "2023-04-11T21:15:31.059Z"
   },
   {
    "duration": 8,
    "start_time": "2023-04-11T21:15:31.623Z"
   },
   {
    "duration": 10,
    "start_time": "2023-04-11T21:15:32.375Z"
   },
   {
    "duration": 8,
    "start_time": "2023-04-11T21:15:32.991Z"
   },
   {
    "duration": 7,
    "start_time": "2023-04-11T21:17:24.989Z"
   },
   {
    "duration": 7,
    "start_time": "2023-04-11T21:18:11.435Z"
   },
   {
    "duration": 7,
    "start_time": "2023-04-11T21:18:42.660Z"
   },
   {
    "duration": 7,
    "start_time": "2023-04-11T21:18:48.323Z"
   },
   {
    "duration": 8,
    "start_time": "2023-04-11T21:18:54.939Z"
   },
   {
    "duration": 6,
    "start_time": "2023-04-11T21:20:33.853Z"
   },
   {
    "duration": 1023,
    "start_time": "2023-04-11T21:20:34.891Z"
   },
   {
    "duration": 1014,
    "start_time": "2023-04-11T21:20:36.157Z"
   },
   {
    "duration": 1024,
    "start_time": "2023-04-11T21:20:37.581Z"
   },
   {
    "duration": 4,
    "start_time": "2023-04-11T21:21:11.406Z"
   },
   {
    "duration": 1403,
    "start_time": "2023-04-11T21:27:04.898Z"
   },
   {
    "duration": 143,
    "start_time": "2023-04-11T21:27:06.303Z"
   },
   {
    "duration": 129,
    "start_time": "2023-04-11T21:27:06.448Z"
   },
   {
    "duration": 130,
    "start_time": "2023-04-11T21:27:06.579Z"
   },
   {
    "duration": 3,
    "start_time": "2023-04-11T21:27:06.710Z"
   },
   {
    "duration": 5,
    "start_time": "2023-04-11T21:27:06.715Z"
   },
   {
    "duration": 580,
    "start_time": "2023-04-11T21:27:06.721Z"
   },
   {
    "duration": 511,
    "start_time": "2023-04-11T21:27:07.303Z"
   },
   {
    "duration": 618,
    "start_time": "2023-04-11T21:27:07.816Z"
   },
   {
    "duration": 6,
    "start_time": "2023-04-11T21:27:08.437Z"
   },
   {
    "duration": 143,
    "start_time": "2023-04-11T21:27:08.444Z"
   },
   {
    "duration": 202,
    "start_time": "2023-04-11T21:27:08.590Z"
   },
   {
    "duration": 292,
    "start_time": "2023-04-11T21:27:08.794Z"
   },
   {
    "duration": 99,
    "start_time": "2023-04-11T21:27:09.088Z"
   },
   {
    "duration": 196,
    "start_time": "2023-04-11T21:27:09.193Z"
   },
   {
    "duration": 103,
    "start_time": "2023-04-11T21:27:09.484Z"
   },
   {
    "duration": 4,
    "start_time": "2023-04-11T21:27:09.589Z"
   },
   {
    "duration": 115,
    "start_time": "2023-04-11T21:27:09.686Z"
   },
   {
    "duration": 0,
    "start_time": "2023-04-11T21:27:09.803Z"
   },
   {
    "duration": 0,
    "start_time": "2023-04-11T21:27:09.804Z"
   },
   {
    "duration": 0,
    "start_time": "2023-04-11T21:27:09.805Z"
   },
   {
    "duration": 0,
    "start_time": "2023-04-11T21:27:09.806Z"
   },
   {
    "duration": 0,
    "start_time": "2023-04-11T21:27:09.807Z"
   },
   {
    "duration": 0,
    "start_time": "2023-04-11T21:27:09.809Z"
   },
   {
    "duration": 0,
    "start_time": "2023-04-11T21:27:09.810Z"
   },
   {
    "duration": 0,
    "start_time": "2023-04-11T21:27:09.811Z"
   },
   {
    "duration": 0,
    "start_time": "2023-04-11T21:27:09.812Z"
   },
   {
    "duration": 0,
    "start_time": "2023-04-11T21:27:09.813Z"
   },
   {
    "duration": 0,
    "start_time": "2023-04-11T21:27:09.814Z"
   },
   {
    "duration": 0,
    "start_time": "2023-04-11T21:27:09.816Z"
   },
   {
    "duration": 0,
    "start_time": "2023-04-11T21:27:09.817Z"
   },
   {
    "duration": 0,
    "start_time": "2023-04-11T21:27:09.818Z"
   },
   {
    "duration": 0,
    "start_time": "2023-04-11T21:27:09.819Z"
   },
   {
    "duration": 3,
    "start_time": "2023-04-11T21:27:37.738Z"
   },
   {
    "duration": 4,
    "start_time": "2023-04-11T21:27:38.484Z"
   },
   {
    "duration": 8,
    "start_time": "2023-04-11T21:27:41.432Z"
   },
   {
    "duration": 9,
    "start_time": "2023-04-11T21:27:41.629Z"
   },
   {
    "duration": 7,
    "start_time": "2023-04-11T21:27:42.024Z"
   },
   {
    "duration": 7,
    "start_time": "2023-04-11T21:27:42.413Z"
   },
   {
    "duration": 4,
    "start_time": "2023-04-11T21:27:42.604Z"
   },
   {
    "duration": 2,
    "start_time": "2023-04-11T21:27:43.177Z"
   },
   {
    "duration": 4,
    "start_time": "2023-04-11T21:27:43.750Z"
   },
   {
    "duration": 11,
    "start_time": "2023-04-11T21:27:44.253Z"
   },
   {
    "duration": 9,
    "start_time": "2023-04-11T21:27:44.332Z"
   },
   {
    "duration": 9,
    "start_time": "2023-04-11T21:27:44.421Z"
   },
   {
    "duration": 4,
    "start_time": "2023-04-11T21:27:44.921Z"
   },
   {
    "duration": 0,
    "start_time": "2023-04-11T21:42:55.988Z"
   },
   {
    "duration": 0,
    "start_time": "2023-04-11T21:42:55.989Z"
   },
   {
    "duration": 0,
    "start_time": "2023-04-11T21:42:55.990Z"
   },
   {
    "duration": 0,
    "start_time": "2023-04-11T21:42:55.991Z"
   },
   {
    "duration": 1409,
    "start_time": "2023-04-11T21:43:17.613Z"
   },
   {
    "duration": 136,
    "start_time": "2023-04-11T21:43:19.024Z"
   },
   {
    "duration": 118,
    "start_time": "2023-04-11T21:43:19.161Z"
   },
   {
    "duration": 120,
    "start_time": "2023-04-11T21:43:19.281Z"
   },
   {
    "duration": 3,
    "start_time": "2023-04-11T21:43:19.403Z"
   },
   {
    "duration": 5,
    "start_time": "2023-04-11T21:43:19.407Z"
   },
   {
    "duration": 522,
    "start_time": "2023-04-11T21:43:19.414Z"
   },
   {
    "duration": 472,
    "start_time": "2023-04-11T21:43:19.938Z"
   },
   {
    "duration": 574,
    "start_time": "2023-04-11T21:43:20.411Z"
   },
   {
    "duration": 5,
    "start_time": "2023-04-11T21:43:20.988Z"
   },
   {
    "duration": 190,
    "start_time": "2023-04-11T21:43:20.995Z"
   },
   {
    "duration": 103,
    "start_time": "2023-04-11T21:43:21.187Z"
   },
   {
    "duration": 199,
    "start_time": "2023-04-11T21:43:21.292Z"
   },
   {
    "duration": 194,
    "start_time": "2023-04-11T21:43:21.492Z"
   },
   {
    "duration": 198,
    "start_time": "2023-04-11T21:43:21.688Z"
   },
   {
    "duration": 197,
    "start_time": "2023-04-11T21:43:21.889Z"
   },
   {
    "duration": 4,
    "start_time": "2023-04-11T21:43:22.089Z"
   },
   {
    "duration": 93,
    "start_time": "2023-04-11T21:43:22.095Z"
   },
   {
    "duration": 5,
    "start_time": "2023-04-11T21:43:22.189Z"
   },
   {
    "duration": 10,
    "start_time": "2023-04-11T21:43:22.196Z"
   },
   {
    "duration": 8,
    "start_time": "2023-04-11T21:43:22.207Z"
   },
   {
    "duration": 7,
    "start_time": "2023-04-11T21:43:22.216Z"
   },
   {
    "duration": 6,
    "start_time": "2023-04-11T21:43:22.224Z"
   },
   {
    "duration": 3,
    "start_time": "2023-04-11T21:43:22.232Z"
   },
   {
    "duration": 5,
    "start_time": "2023-04-11T21:43:22.237Z"
   },
   {
    "duration": 44,
    "start_time": "2023-04-11T21:43:22.243Z"
   },
   {
    "duration": 9,
    "start_time": "2023-04-11T21:43:22.289Z"
   },
   {
    "duration": 7,
    "start_time": "2023-04-11T21:43:22.302Z"
   },
   {
    "duration": 7,
    "start_time": "2023-04-11T21:43:22.310Z"
   },
   {
    "duration": 4,
    "start_time": "2023-04-11T21:43:22.319Z"
   },
   {
    "duration": 154,
    "start_time": "2023-04-11T21:43:22.324Z"
   },
   {
    "duration": 0,
    "start_time": "2023-04-11T21:43:22.480Z"
   },
   {
    "duration": 0,
    "start_time": "2023-04-11T21:43:22.485Z"
   },
   {
    "duration": 7,
    "start_time": "2023-04-11T21:47:57.159Z"
   },
   {
    "duration": 26,
    "start_time": "2023-04-11T21:47:58.203Z"
   },
   {
    "duration": 3,
    "start_time": "2023-04-11T21:48:51.683Z"
   },
   {
    "duration": 7,
    "start_time": "2023-04-11T21:48:52.376Z"
   },
   {
    "duration": 7,
    "start_time": "2023-04-11T21:48:53.057Z"
   },
   {
    "duration": 9,
    "start_time": "2023-04-11T21:48:53.567Z"
   },
   {
    "duration": 5,
    "start_time": "2023-04-11T21:49:01.671Z"
   },
   {
    "duration": 4,
    "start_time": "2023-04-11T21:50:45.554Z"
   },
   {
    "duration": 25,
    "start_time": "2023-04-11T21:50:46.592Z"
   },
   {
    "duration": 24,
    "start_time": "2023-04-11T21:50:47.990Z"
   },
   {
    "duration": 28,
    "start_time": "2023-04-11T21:50:48.280Z"
   },
   {
    "duration": 4,
    "start_time": "2023-04-11T21:58:20.173Z"
   },
   {
    "duration": 7,
    "start_time": "2023-04-11T21:58:20.640Z"
   },
   {
    "duration": 8,
    "start_time": "2023-04-11T21:58:21.127Z"
   },
   {
    "duration": 6,
    "start_time": "2023-04-11T21:58:21.550Z"
   },
   {
    "duration": 3,
    "start_time": "2023-04-11T21:58:25.490Z"
   },
   {
    "duration": 7,
    "start_time": "2023-04-11T21:58:25.935Z"
   },
   {
    "duration": 8,
    "start_time": "2023-04-11T21:58:26.658Z"
   },
   {
    "duration": 7,
    "start_time": "2023-04-11T21:58:27.095Z"
   },
   {
    "duration": 3,
    "start_time": "2023-04-11T21:58:39.115Z"
   },
   {
    "duration": 7,
    "start_time": "2023-04-11T21:58:39.568Z"
   },
   {
    "duration": 8,
    "start_time": "2023-04-11T21:58:40.016Z"
   },
   {
    "duration": 8,
    "start_time": "2023-04-11T21:58:40.320Z"
   },
   {
    "duration": 4,
    "start_time": "2023-04-11T22:04:13.283Z"
   },
   {
    "duration": 8,
    "start_time": "2023-04-11T22:04:14.244Z"
   },
   {
    "duration": 9,
    "start_time": "2023-04-11T22:04:15.067Z"
   },
   {
    "duration": 9,
    "start_time": "2023-04-11T22:04:15.566Z"
   },
   {
    "duration": 837,
    "start_time": "2023-04-11T22:04:36.015Z"
   },
   {
    "duration": 820,
    "start_time": "2023-04-11T22:04:45.823Z"
   },
   {
    "duration": 830,
    "start_time": "2023-04-11T22:04:53.069Z"
   },
   {
    "duration": 7,
    "start_time": "2023-04-11T22:08:53.930Z"
   },
   {
    "duration": 932,
    "start_time": "2023-04-11T22:08:54.647Z"
   },
   {
    "duration": 896,
    "start_time": "2023-04-11T22:08:55.584Z"
   },
   {
    "duration": 910,
    "start_time": "2023-04-11T22:08:56.484Z"
   },
   {
    "duration": 4,
    "start_time": "2023-04-11T22:09:40.913Z"
   },
   {
    "duration": 860,
    "start_time": "2023-04-11T22:09:42.773Z"
   },
   {
    "duration": 900,
    "start_time": "2023-04-11T22:09:43.635Z"
   },
   {
    "duration": 820,
    "start_time": "2023-04-11T22:09:44.536Z"
   },
   {
    "duration": 5,
    "start_time": "2023-04-11T22:10:41.059Z"
   },
   {
    "duration": 834,
    "start_time": "2023-04-11T22:10:41.918Z"
   },
   {
    "duration": 859,
    "start_time": "2023-04-11T22:10:42.754Z"
   },
   {
    "duration": 946,
    "start_time": "2023-04-11T22:10:43.615Z"
   },
   {
    "duration": 4,
    "start_time": "2023-04-11T22:11:16.740Z"
   },
   {
    "duration": 863,
    "start_time": "2023-04-11T22:11:17.571Z"
   },
   {
    "duration": 874,
    "start_time": "2023-04-11T22:11:18.437Z"
   },
   {
    "duration": 831,
    "start_time": "2023-04-11T22:11:19.313Z"
   },
   {
    "duration": 4,
    "start_time": "2023-04-11T22:11:53.509Z"
   },
   {
    "duration": 885,
    "start_time": "2023-04-11T22:11:54.233Z"
   },
   {
    "duration": 901,
    "start_time": "2023-04-11T22:11:55.120Z"
   },
   {
    "duration": 864,
    "start_time": "2023-04-11T22:11:56.023Z"
   },
   {
    "duration": 5,
    "start_time": "2023-04-11T22:17:27.694Z"
   },
   {
    "duration": 992,
    "start_time": "2023-04-11T22:17:28.630Z"
   },
   {
    "duration": 961,
    "start_time": "2023-04-11T22:17:46.430Z"
   },
   {
    "duration": 1044,
    "start_time": "2023-04-11T22:17:47.393Z"
   },
   {
    "duration": 5,
    "start_time": "2023-04-11T22:18:55.701Z"
   },
   {
    "duration": 855,
    "start_time": "2023-04-11T22:18:57.259Z"
   },
   {
    "duration": 867,
    "start_time": "2023-04-11T22:18:58.116Z"
   },
   {
    "duration": 870,
    "start_time": "2023-04-11T22:18:58.985Z"
   },
   {
    "duration": 5,
    "start_time": "2023-04-11T22:19:19.803Z"
   },
   {
    "duration": 847,
    "start_time": "2023-04-11T22:19:20.746Z"
   },
   {
    "duration": 5,
    "start_time": "2023-04-11T22:19:46.869Z"
   },
   {
    "duration": 891,
    "start_time": "2023-04-11T22:19:47.714Z"
   },
   {
    "duration": 879,
    "start_time": "2023-04-11T22:19:51.667Z"
   },
   {
    "duration": 877,
    "start_time": "2023-04-11T22:19:52.548Z"
   },
   {
    "duration": 5,
    "start_time": "2023-04-11T22:20:14.149Z"
   },
   {
    "duration": 839,
    "start_time": "2023-04-11T22:20:14.898Z"
   },
   {
    "duration": 855,
    "start_time": "2023-04-11T22:20:15.739Z"
   },
   {
    "duration": 852,
    "start_time": "2023-04-11T22:20:16.596Z"
   },
   {
    "duration": 5,
    "start_time": "2023-04-11T22:20:28.750Z"
   },
   {
    "duration": 872,
    "start_time": "2023-04-11T22:20:29.298Z"
   },
   {
    "duration": 916,
    "start_time": "2023-04-11T22:20:30.172Z"
   },
   {
    "duration": 895,
    "start_time": "2023-04-11T22:20:31.090Z"
   }
  ],
  "kernelspec": {
   "display_name": "Python 3 (ipykernel)",
   "language": "python",
   "name": "python3"
  },
  "language_info": {
   "codemirror_mode": {
    "name": "ipython",
    "version": 3
   },
   "file_extension": ".py",
   "mimetype": "text/x-python",
   "name": "python",
   "nbconvert_exporter": "python",
   "pygments_lexer": "ipython3",
   "version": "3.9.13"
  },
  "toc": {
   "base_numbering": 1,
   "nav_menu": {},
   "number_sections": true,
   "sideBar": true,
   "skip_h1_title": true,
   "title_cell": "Table of Contents",
   "title_sidebar": "Contents",
   "toc_cell": true,
   "toc_position": {},
   "toc_section_display": true,
   "toc_window_display": false
  }
 },
 "nbformat": 4,
 "nbformat_minor": 5
}
