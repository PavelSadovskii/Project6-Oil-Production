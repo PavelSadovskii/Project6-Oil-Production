{
 "cells": [
  {
   "cell_type": "markdown",
   "id": "869ea807",
   "metadata": {
    "toc": true
   },
   "source": [
    "<h1>Table of Contents<span class=\"tocSkip\"></span></h1>\n",
    "<div class=\"toc\"><ul class=\"toc-item\"><li><span><a href=\"#Загрузка-и-подготовка-данных\" data-toc-modified-id=\"Загрузка-и-подготовка-данных-1\"><span class=\"toc-item-num\">1&nbsp;&nbsp;</span>Загрузка и подготовка данных</a></span><ul class=\"toc-item\"><li><span><a href=\"#Импортируем-необходимые-библиотеки-и-модули\" data-toc-modified-id=\"Импортируем-необходимые-библиотеки-и-модули-1.1\"><span class=\"toc-item-num\">1.1&nbsp;&nbsp;</span>Импортируем необходимые библиотеки и модули</a></span></li><li><span><a href=\"#Откроем-файлы\" data-toc-modified-id=\"Откроем-файлы-1.2\"><span class=\"toc-item-num\">1.2&nbsp;&nbsp;</span>Откроем файлы</a></span></li><li><span><a href=\"#Просмотрим-основную-информацию-о-файлах\" data-toc-modified-id=\"Просмотрим-основную-информацию-о-файлах-1.3\"><span class=\"toc-item-num\">1.3&nbsp;&nbsp;</span>Просмотрим основную информацию о файлах</a></span><ul class=\"toc-item\"><li><span><a href=\"#Напишем-небольшую-функцию-для-упрощения\" data-toc-modified-id=\"Напишем-небольшую-функцию-для-упрощения-1.3.1\"><span class=\"toc-item-num\">1.3.1&nbsp;&nbsp;</span>Напишем небольшую функцию для упрощения</a></span></li></ul></li></ul></li><li><span><a href=\"#Обучение-и-проверка-модели\" data-toc-modified-id=\"Обучение-и-проверка-модели-2\"><span class=\"toc-item-num\">2&nbsp;&nbsp;</span>Обучение и проверка модели</a></span><ul class=\"toc-item\"><li><span><a href=\"#Напишем-функцию,-которая-будет:\" data-toc-modified-id=\"Напишем-функцию,-которая-будет:-2.1\"><span class=\"toc-item-num\">2.1&nbsp;&nbsp;</span>Напишем функцию, которая будет:</a></span><ul class=\"toc-item\"><li><span><a href=\"#разбивать-данные-на-обучающую-и-валидационную-выборки-в-соотношении-75:25\" data-toc-modified-id=\"разбивать-данные-на-обучающую-и-валидационную-выборки-в-соотношении-75:25-2.1.1\"><span class=\"toc-item-num\">2.1.1&nbsp;&nbsp;</span>разбивать данные на обучающую и валидационную выборки в соотношении 75:25</a></span></li><li><span><a href=\"#обучать-модель-и-делать-предсказания-на-валидационной-выборке\" data-toc-modified-id=\"обучать-модель-и-делать-предсказания-на-валидационной-выборке-2.1.2\"><span class=\"toc-item-num\">2.1.2&nbsp;&nbsp;</span>обучать модель и делать предсказания на валидационной выборке</a></span></li><li><span><a href=\"#сохранять-предсказания-и-правильные-ответы-на-валидационной-выборке\" data-toc-modified-id=\"сохранять-предсказания-и-правильные-ответы-на-валидационной-выборке-2.1.3\"><span class=\"toc-item-num\">2.1.3&nbsp;&nbsp;</span>сохранять предсказания и правильные ответы на валидационной выборке</a></span></li><li><span><a href=\"#печатать-на-экране-средний-запас-предсказанного-сырья-и-RMSE-модели\" data-toc-modified-id=\"печатать-на-экране-средний-запас-предсказанного-сырья-и-RMSE-модели-2.1.4\"><span class=\"toc-item-num\">2.1.4&nbsp;&nbsp;</span>печатать на экране средний запас предсказанного сырья и RMSE модели</a></span></li></ul></li><li><span><a href=\"#Вывод\" data-toc-modified-id=\"Вывод-2.2\"><span class=\"toc-item-num\">2.2&nbsp;&nbsp;</span>Вывод</a></span></li></ul></li><li><span><a href=\"#Подготовка-к-расчёту-прибыли\" data-toc-modified-id=\"Подготовка-к-расчёту-прибыли-3\"><span class=\"toc-item-num\">3&nbsp;&nbsp;</span>Подготовка к расчёту прибыли</a></span><ul class=\"toc-item\"><li><span><a href=\"#Все-ключевые-значения-для-расчётов-сохраним-в-отдельных-переменных.\" data-toc-modified-id=\"Все-ключевые-значения-для-расчётов-сохраним-в-отдельных-переменных.-3.1\"><span class=\"toc-item-num\">3.1&nbsp;&nbsp;</span>Все ключевые значения для расчётов сохраним в отдельных переменных.</a></span></li><li><span><a href=\"#Рассчитаем-достаточный-объём-сырья-для-безубыточной-разработки-новой-скважины.-Сравним-полученный-объём-сырья-со-средним-запасом-в-каждом-регионе.\" data-toc-modified-id=\"Рассчитаем-достаточный-объём-сырья-для-безубыточной-разработки-новой-скважины.-Сравним-полученный-объём-сырья-со-средним-запасом-в-каждом-регионе.-3.2\"><span class=\"toc-item-num\">3.2&nbsp;&nbsp;</span>Рассчитаем достаточный объём сырья для безубыточной разработки новой скважины. Сравним полученный объём сырья со средним запасом в каждом регионе.</a></span></li><li><span><a href=\"#Напишем-выводы-по-этапу-подготовки-расчёта-прибыли.\" data-toc-modified-id=\"Напишем-выводы-по-этапу-подготовки-расчёта-прибыли.-3.3\"><span class=\"toc-item-num\">3.3&nbsp;&nbsp;</span>Напишем выводы по этапу подготовки расчёта прибыли.</a></span></li></ul></li><li><span><a href=\"#Напишем-функцию-для-расчёта-прибыли-по-выбранным-скважинам-и-предсказаниям-модели\" data-toc-modified-id=\"Напишем-функцию-для-расчёта-прибыли-по-выбранным-скважинам-и-предсказаниям-модели-4\"><span class=\"toc-item-num\">4&nbsp;&nbsp;</span>Напишем функцию для расчёта прибыли по выбранным скважинам и предсказаниям модели</a></span><ul class=\"toc-item\"><li><span><a href=\"#Выберем-скважины-с-максимальными-значениями-предсказаний.\" data-toc-modified-id=\"Выберем-скважины-с-максимальными-значениями-предсказаний.-4.1\"><span class=\"toc-item-num\">4.1&nbsp;&nbsp;</span>Выберем скважины с максимальными значениями предсказаний.</a></span></li><li><span><a href=\"#Просуммируем-целевое-значение-объёма-сырья,-соответствующее-этим-предсказаниям.\" data-toc-modified-id=\"Просуммируем-целевое-значение-объёма-сырья,-соответствующее-этим-предсказаниям.-4.2\"><span class=\"toc-item-num\">4.2&nbsp;&nbsp;</span>Просуммируем целевое значение объёма сырья, соответствующее этим предсказаниям.</a></span></li><li><span><a href=\"#Рассчитаем-прибыль-для-полученного-объёма-сырья.\" data-toc-modified-id=\"Рассчитаем-прибыль-для-полученного-объёма-сырья.-4.3\"><span class=\"toc-item-num\">4.3&nbsp;&nbsp;</span>Рассчитаем прибыль для полученного объёма сырья.</a></span></li><li><span><a href=\"#Вывод\" data-toc-modified-id=\"Вывод-4.4\"><span class=\"toc-item-num\">4.4&nbsp;&nbsp;</span>Вывод</a></span></li></ul></li><li><span><a href=\"#Посчитаем-риски-и-прибыль-для-каждого-региона\" data-toc-modified-id=\"Посчитаем-риски-и-прибыль-для-каждого-региона-5\"><span class=\"toc-item-num\">5&nbsp;&nbsp;</span>Посчитаем риски и прибыль для каждого региона</a></span><ul class=\"toc-item\"><li><span><a href=\"#Применим-технику-Bootstrap-с-1000-выборок,-чтобы-найти-распределение-прибыли.\" data-toc-modified-id=\"Применим-технику-Bootstrap-с-1000-выборок,-чтобы-найти-распределение-прибыли.-5.1\"><span class=\"toc-item-num\">5.1&nbsp;&nbsp;</span>Применим технику Bootstrap с 1000 выборок, чтобы найти распределение прибыли.</a></span><ul class=\"toc-item\"><li><span><a href=\"#Напишем-функцию\" data-toc-modified-id=\"Напишем-функцию-5.1.1\"><span class=\"toc-item-num\">5.1.1&nbsp;&nbsp;</span>Напишем функцию</a></span></li></ul></li><li><span><a href=\"#Найдём-среднюю-прибыль,-95%-й-доверительный-интервал-и-риск-убытков.-Убыток-—-это-отрицательная-прибыль\" data-toc-modified-id=\"Найдём-среднюю-прибыль,-95%-й-доверительный-интервал-и-риск-убытков.-Убыток-—-это-отрицательная-прибыль-5.2\"><span class=\"toc-item-num\">5.2&nbsp;&nbsp;</span>Найдём среднюю прибыль, 95%-й доверительный интервал и риск убытков. Убыток — это отрицательная прибыль</a></span></li><li><span><a href=\"#Напишем-выводы:-предложим-регион-для-разработки-скважин-и-обоснуем-выбор\" data-toc-modified-id=\"Напишем-выводы:-предложим-регион-для-разработки-скважин-и-обоснуем-выбор-5.3\"><span class=\"toc-item-num\">5.3&nbsp;&nbsp;</span>Напишем выводы: предложим регион для разработки скважин и обоснуем выбор</a></span></li></ul></li><li><span><a href=\"#Чек-лист-готовности-проекта\" data-toc-modified-id=\"Чек-лист-готовности-проекта-6\"><span class=\"toc-item-num\">6&nbsp;&nbsp;</span>Чек-лист готовности проекта</a></span></li></ul></div>"
   ]
  },
  {
   "cell_type": "markdown",
   "id": "3009307f",
   "metadata": {},
   "source": [
    "# Выбор локации для скважины"
   ]
  },
  {
   "cell_type": "markdown",
   "id": "771e824a",
   "metadata": {},
   "source": [
    "Допустим, вы работаете в добывающей компании «ГлавРосГосНефть». Нужно решить, где бурить новую скважину.\n",
    "\n",
    "Вам предоставлены пробы нефти в трёх регионах: в каждом 10 000 месторождений, где измерили качество нефти и объём её запасов. Постройте модель машинного обучения, которая поможет определить регион, где добыча принесёт наибольшую прибыль. Проанализируйте возможную прибыль и риски техникой *Bootstrap.*\n",
    "\n",
    "Шаги для выбора локации:\n",
    "\n",
    "- В избранном регионе ищут месторождения, для каждого определяют значения признаков;\n",
    "- Строят модель и оценивают объём запасов;\n",
    "- Выбирают месторождения с самым высокими оценками значений. Количество месторождений зависит от бюджета компании и стоимости разработки одной скважины;\n",
    "- Прибыль равна суммарной прибыли отобранных месторождений."
   ]
  },
  {
   "cell_type": "markdown",
   "id": "c3b0d123",
   "metadata": {},
   "source": [
    "# План работы:\n",
    "\n",
    "1.Загрузите и подготовьте данные\n",
    "\n",
    "2.Обучите и проверьте модель для каждого региона:\n",
    "\n",
    "2.1. Разбейте данные на обучающую и валидационную выборки в соотношении 75:25.\n",
    " \n",
    "2.2. Обучите модель и сделайте предсказания на валидационной выборке.\n",
    " \n",
    "2.3. Сохраните предсказания и правильные ответы на валидационной выборке.\n",
    " \n",
    "2.4. Напечатайте на экране средний запас предсказанного сырья и RMSE модели.\n",
    " \n",
    "2.5. Проанализируйте результаты.\n",
    "\n",
    "3.Подготовьтесь к расчёту прибыли:\n",
    "\n",
    "3.1. Все ключевые значения для расчётов сохраните в отдельных переменных.\n",
    "\n",
    "3.2. Рассчитайте достаточный объём сырья для безубыточной разработки новой скважины. Сравните полученный объём сырья со средним запасом в каждом регионе. \n",
    "\n",
    "3.3. Напишите выводы по этапу подготовки расчёта прибыли.\n",
    "\n",
    "4.Напишите функцию для расчёта прибыли по выбранным скважинам и предсказаниям модели:\n",
    "\n",
    "4.1. Выберите скважины с максимальными значениями предсказаний. \n",
    "\n",
    "4.2. Просуммируйте целевое значение объёма сырья, соответствующее этим предсказаниям.\n",
    "\n",
    "4.3. Рассчитайте прибыль для полученного объёма сырья.\n",
    "\n",
    "5.Посчитайте риски и прибыль для каждого региона:\n",
    "\n",
    "5.1. Примените технику Bootstrap с 1000 выборок, чтобы найти распределение прибыли.\n",
    "\n",
    "5.2. Найдите среднюю прибыль, 95%-й доверительный интервал и риск убытков. Убыток — это отрицательная прибыль.\n",
    "\n",
    "5.3. Напишите выводы: предложите регион для разработки скважин и обоснуйте выбор.\n"
   ]
  },
  {
   "cell_type": "markdown",
   "id": "4d62e681",
   "metadata": {},
   "source": [
    "# Описание данных\n",
    "\n",
    "**Условия задачи:**\n",
    "\n",
    "Для обучения модели подходит только линейная регрессия (остальные — недостаточно предсказуемые).\n",
    "\n",
    "При разведке региона исследуют 500 точек, из которых с помощью машинного обучения выбирают 200 лучших для разработки.\n",
    "\n",
    "Бюджет на разработку скважин в регионе — 10 млрд рублей.\n",
    "\n",
    "При нынешних ценах один баррель сырья приносит 450 рублей дохода. Доход с каждой единицы продукта составляет 450 тыс. рублей, поскольку объём указан в тысячах баррелей.\n",
    "\n",
    "После оценки рисков нужно оставить лишь те регионы, в которых вероятность убытков меньше 2.5%. Среди них выбирают регион с наибольшей средней прибылью."
   ]
  },
  {
   "cell_type": "markdown",
   "id": "fbbad42f",
   "metadata": {},
   "source": [
    "## Загрузка и подготовка данных"
   ]
  },
  {
   "cell_type": "markdown",
   "id": "eaec838b",
   "metadata": {},
   "source": [
    "### Импортируем необходимые библиотеки и модули"
   ]
  },
  {
   "cell_type": "code",
   "execution_count": 1,
   "id": "f99b4526",
   "metadata": {
    "ExecuteTime": {
     "end_time": "2023-04-10T12:03:13.533207Z",
     "start_time": "2023-04-10T12:03:08.336880Z"
    }
   },
   "outputs": [],
   "source": [
    "import pandas as pd \n",
    "import matplotlib.pyplot as plt\n",
    "\n",
    "from sklearn.model_selection import train_test_split\n",
    "from sklearn.linear_model import LinearRegression\n",
    "from sklearn.metrics import (\n",
    "    f1_score,\n",
    "    roc_auc_score,\n",
    "    mean_squared_error,\n",
    "    r2_score\n",
    ")\n",
    "from sklearn.preprocessing import StandardScaler\n",
    "import math\n",
    "from numpy.random import RandomState\n",
    "\n",
    "state = RandomState(12345) "
   ]
  },
  {
   "cell_type": "markdown",
   "id": "eef20a50",
   "metadata": {},
   "source": [
    "### Откроем файлы"
   ]
  },
  {
   "cell_type": "code",
   "execution_count": 2,
   "id": "f151e531",
   "metadata": {
    "ExecuteTime": {
     "end_time": "2023-04-10T12:03:15.215394Z",
     "start_time": "2023-04-10T12:03:13.538156Z"
    }
   },
   "outputs": [],
   "source": [
    "try:\n",
    "    data0 = pd.read_csv('/datasets/geo_data_0.csv', sep=',')\n",
    "except:\n",
    "    data0 = pd.read_csv('https://code.s3.yandex.net/datasets/geo_data_0.csv',\n",
    "                       sep=',')"
   ]
  },
  {
   "cell_type": "code",
   "execution_count": 3,
   "id": "39844d1f",
   "metadata": {
    "ExecuteTime": {
     "end_time": "2023-04-10T12:03:17.471517Z",
     "start_time": "2023-04-10T12:03:15.219356Z"
    }
   },
   "outputs": [],
   "source": [
    "try:\n",
    "    data1 = pd.read_csv('/datasets/geo_data_1.csv', sep=',')\n",
    "except:\n",
    "    data1 = pd.read_csv('https://code.s3.yandex.net/datasets/geo_data_1.csv',\n",
    "                       sep=',')"
   ]
  },
  {
   "cell_type": "code",
   "execution_count": 4,
   "id": "16c21095",
   "metadata": {
    "ExecuteTime": {
     "end_time": "2023-04-10T12:03:19.114820Z",
     "start_time": "2023-04-10T12:03:17.477375Z"
    }
   },
   "outputs": [],
   "source": [
    "try:\n",
    "    data2 = pd.read_csv('/datasets/geo_data_2.csv', sep=',')\n",
    "except:\n",
    "    data2 = pd.read_csv('https://code.s3.yandex.net/datasets/geo_data_2.csv',\n",
    "                       sep=',')"
   ]
  },
  {
   "cell_type": "code",
   "execution_count": 5,
   "id": "91d23ecc",
   "metadata": {
    "ExecuteTime": {
     "end_time": "2023-04-10T12:03:19.124636Z",
     "start_time": "2023-04-10T12:03:19.118114Z"
    }
   },
   "outputs": [],
   "source": [
    "data = (data0, data1, data2)"
   ]
  },
  {
   "cell_type": "markdown",
   "id": "e615409e",
   "metadata": {},
   "source": [
    "### Просмотрим основную информацию о файлах"
   ]
  },
  {
   "cell_type": "markdown",
   "id": "0a0636f2",
   "metadata": {},
   "source": [
    "#### Напишем небольшую функцию для упрощения"
   ]
  },
  {
   "cell_type": "code",
   "execution_count": 6,
   "id": "ec4bcbef",
   "metadata": {
    "ExecuteTime": {
     "end_time": "2023-04-10T12:03:19.142335Z",
     "start_time": "2023-04-10T12:03:19.130032Z"
    }
   },
   "outputs": [],
   "source": [
    "def data_info(data):\n",
    "    print('Верх таблицы:\\n', data.head(), end='\\n\\n');\n",
    "    print('Основная информация о таблице:\\n', data.info(), end='\\n\\n');\n",
    "    print('Распределение значений таблицы:\\n', data.describe(include='all'), \n",
    "          end='\\n\\n');\n",
    "    print('Количество нулевых значений:\\n', data.isna().sum(), end='\\n\\n');\n",
    "    print('Количество дубликатов:\\n', data.duplicated().sum())\n",
    "    print('Количество уникальных значений в столбце \"id\":\\n', data['id']\n",
    "          .value_counts())\n",
    "    print('Корреляция:\\n', data.corr())\n",
    "    data[['f0','f1','f2']].hist()\n",
    "    print('\\nРаспределение значений признаков:\\n')\n",
    "    plt.show()\n",
    "    \n",
    "    "
   ]
  },
  {
   "cell_type": "code",
   "execution_count": 7,
   "id": "bc58d5a4",
   "metadata": {
    "ExecuteTime": {
     "end_time": "2023-04-10T12:03:20.467777Z",
     "start_time": "2023-04-10T12:03:19.146883Z"
    },
    "scrolled": true
   },
   "outputs": [
    {
     "name": "stdout",
     "output_type": "stream",
     "text": [
      "Верх таблицы:\n",
      "       id        f0        f1        f2     product\n",
      "0  txEyH  0.705745 -0.497823  1.221170  105.280062\n",
      "1  2acmU  1.334711 -0.340164  4.365080   73.037750\n",
      "2  409Wp  1.022732  0.151990  1.419926   85.265647\n",
      "3  iJLyR -0.032172  0.139033  2.978566  168.620776\n",
      "4  Xdl7t  1.988431  0.155413  4.751769  154.036647\n",
      "\n",
      "<class 'pandas.core.frame.DataFrame'>\n",
      "RangeIndex: 100000 entries, 0 to 99999\n",
      "Data columns (total 5 columns):\n",
      " #   Column   Non-Null Count   Dtype  \n",
      "---  ------   --------------   -----  \n",
      " 0   id       100000 non-null  object \n",
      " 1   f0       100000 non-null  float64\n",
      " 2   f1       100000 non-null  float64\n",
      " 3   f2       100000 non-null  float64\n",
      " 4   product  100000 non-null  float64\n",
      "dtypes: float64(4), object(1)\n",
      "memory usage: 3.8+ MB\n",
      "Основная информация о таблице:\n",
      " None\n",
      "\n",
      "Распределение значений таблицы:\n",
      "             id             f0             f1             f2        product\n",
      "count   100000  100000.000000  100000.000000  100000.000000  100000.000000\n",
      "unique   99990            NaN            NaN            NaN            NaN\n",
      "top      TtcGQ            NaN            NaN            NaN            NaN\n",
      "freq         2            NaN            NaN            NaN            NaN\n",
      "mean       NaN       0.500419       0.250143       2.502647      92.500000\n",
      "std        NaN       0.871832       0.504433       3.248248      44.288691\n",
      "min        NaN      -1.408605      -0.848218     -12.088328       0.000000\n",
      "25%        NaN      -0.072580      -0.200881       0.287748      56.497507\n",
      "50%        NaN       0.502360       0.250252       2.515969      91.849972\n",
      "75%        NaN       1.073581       0.700646       4.715088     128.564089\n",
      "max        NaN       2.362331       1.343769      16.003790     185.364347\n",
      "\n",
      "Количество нулевых значений:\n",
      " id         0\n",
      "f0         0\n",
      "f1         0\n",
      "f2         0\n",
      "product    0\n",
      "dtype: int64\n",
      "\n",
      "Количество дубликатов:\n",
      " 0\n",
      "Количество уникальных значений в столбце \"id\":\n",
      " TtcGQ    2\n",
      "AGS9W    2\n",
      "bxg6G    2\n",
      "QcMuo    2\n",
      "HZww2    2\n",
      "        ..\n",
      "ZhjRm    1\n",
      "U705X    1\n",
      "JrZTK    1\n",
      "xnxOO    1\n",
      "mrPEo    1\n",
      "Name: id, Length: 99990, dtype: int64\n",
      "Корреляция:\n",
      "                f0        f1        f2   product\n",
      "f0       1.000000 -0.440723 -0.003153  0.143536\n",
      "f1      -0.440723  1.000000  0.001724 -0.192356\n",
      "f2      -0.003153  0.001724  1.000000  0.483663\n",
      "product  0.143536 -0.192356  0.483663  1.000000\n",
      "\n",
      "Распределение значений признаков:\n",
      "\n"
     ]
    },
    {
     "data": {
      "image/png": "[encoded data removed]",
      "text/plain": [
       "<Figure size 432x288 with 4 Axes>"
      ]
     },
     "metadata": {
      "needs_background": "light"
     },
     "output_type": "display_data"
    }
   ],
   "source": [
    "data_info(data0)"
   ]
  },
  {
   "cell_type": "markdown",
   "id": "99e81350",
   "metadata": {},
   "source": [
    "Видим корреляцию у f2 и product = 0.48"
   ]
  },
  {
   "cell_type": "code",
   "execution_count": 8,
   "id": "67fe1ac6",
   "metadata": {
    "ExecuteTime": {
     "end_time": "2023-04-10T12:03:21.503357Z",
     "start_time": "2023-04-10T12:03:20.472416Z"
    },
    "scrolled": true
   },
   "outputs": [
    {
     "name": "stdout",
     "output_type": "stream",
     "text": [
      "Верх таблицы:\n",
      "       id         f0         f1        f2     product\n",
      "0  kBEdx -15.001348  -8.276000 -0.005876    3.179103\n",
      "1  62mP7  14.272088  -3.475083  0.999183   26.953261\n",
      "2  vyE1P   6.263187  -5.948386  5.001160  134.766305\n",
      "3  KcrkZ -13.081196 -11.506057  4.999415  137.945408\n",
      "4  AHL4O  12.702195  -8.147433  5.004363  134.766305\n",
      "\n",
      "<class 'pandas.core.frame.DataFrame'>\n",
      "RangeIndex: 100000 entries, 0 to 99999\n",
      "Data columns (total 5 columns):\n",
      " #   Column   Non-Null Count   Dtype  \n",
      "---  ------   --------------   -----  \n",
      " 0   id       100000 non-null  object \n",
      " 1   f0       100000 non-null  float64\n",
      " 2   f1       100000 non-null  float64\n",
      " 3   f2       100000 non-null  float64\n",
      " 4   product  100000 non-null  float64\n",
      "dtypes: float64(4), object(1)\n",
      "memory usage: 3.8+ MB\n",
      "Основная информация о таблице:\n",
      " None\n",
      "\n",
      "Распределение значений таблицы:\n",
      "             id             f0             f1             f2        product\n",
      "count   100000  100000.000000  100000.000000  100000.000000  100000.000000\n",
      "unique   99996            NaN            NaN            NaN            NaN\n",
      "top      LHZR0            NaN            NaN            NaN            NaN\n",
      "freq         2            NaN            NaN            NaN            NaN\n",
      "mean       NaN       1.141296      -4.796579       2.494541      68.825000\n",
      "std        NaN       8.965932       5.119872       1.703572      45.944423\n",
      "min        NaN     -31.609576     -26.358598      -0.018144       0.000000\n",
      "25%        NaN      -6.298551      -8.267985       1.000021      26.953261\n",
      "50%        NaN       1.153055      -4.813172       2.011479      57.085625\n",
      "75%        NaN       8.621015      -1.332816       3.999904     107.813044\n",
      "max        NaN      29.421755      18.734063       5.019721     137.945408\n",
      "\n",
      "Количество нулевых значений:\n",
      " id         0\n",
      "f0         0\n",
      "f1         0\n",
      "f2         0\n",
      "product    0\n",
      "dtype: int64\n",
      "\n",
      "Количество дубликатов:\n",
      " 0\n",
      "Количество уникальных значений в столбце \"id\":\n",
      " LHZR0    2\n",
      "bfPNe    2\n",
      "wt4Uk    2\n",
      "5ltQ6    2\n",
      "2SyH1    1\n",
      "        ..\n",
      "sZ5hX    1\n",
      "QXzh3    1\n",
      "HfdUR    1\n",
      "E0pWx    1\n",
      "ZJNNs    1\n",
      "Name: id, Length: 99996, dtype: int64\n",
      "Корреляция:\n",
      "                f0        f1        f2   product\n",
      "f0       1.000000  0.182287 -0.001777 -0.030491\n",
      "f1       0.182287  1.000000 -0.002595 -0.010155\n",
      "f2      -0.001777 -0.002595  1.000000  0.999397\n",
      "product -0.030491 -0.010155  0.999397  1.000000\n",
      "\n",
      "Распределение значений признаков:\n",
      "\n"
     ]
    },
    {
     "data": {
      "image/png": "[encoded data removed]",
      "text/plain": [
       "<Figure size 432x288 with 4 Axes>"
      ]
     },
     "metadata": {
      "needs_background": "light"
     },
     "output_type": "display_data"
    }
   ],
   "source": [
    "data_info(data1)"
   ]
  },
  {
   "cell_type": "markdown",
   "id": "869a9200",
   "metadata": {},
   "source": [
    "Видим корреляцию у f2 и product = 0.99"
   ]
  },
  {
   "cell_type": "code",
   "execution_count": 9,
   "id": "2e54d9f8",
   "metadata": {
    "ExecuteTime": {
     "end_time": "2023-04-10T12:03:22.501826Z",
     "start_time": "2023-04-10T12:03:21.508279Z"
    },
    "scrolled": false
   },
   "outputs": [
    {
     "name": "stdout",
     "output_type": "stream",
     "text": [
      "Верх таблицы:\n",
      "       id        f0        f1        f2     product\n",
      "0  fwXo0 -1.146987  0.963328 -0.828965   27.758673\n",
      "1  WJtFt  0.262778  0.269839 -2.530187   56.069697\n",
      "2  ovLUW  0.194587  0.289035 -5.586433   62.871910\n",
      "3  q6cA6  2.236060 -0.553760  0.930038  114.572842\n",
      "4  WPMUX -0.515993  1.716266  5.899011  149.600746\n",
      "\n",
      "<class 'pandas.core.frame.DataFrame'>\n",
      "RangeIndex: 100000 entries, 0 to 99999\n",
      "Data columns (total 5 columns):\n",
      " #   Column   Non-Null Count   Dtype  \n",
      "---  ------   --------------   -----  \n",
      " 0   id       100000 non-null  object \n",
      " 1   f0       100000 non-null  float64\n",
      " 2   f1       100000 non-null  float64\n",
      " 3   f2       100000 non-null  float64\n",
      " 4   product  100000 non-null  float64\n",
      "dtypes: float64(4), object(1)\n",
      "memory usage: 3.8+ MB\n",
      "Основная информация о таблице:\n",
      " None\n",
      "\n",
      "Распределение значений таблицы:\n",
      "             id             f0             f1             f2        product\n",
      "count   100000  100000.000000  100000.000000  100000.000000  100000.000000\n",
      "unique   99996            NaN            NaN            NaN            NaN\n",
      "top      KUPhW            NaN            NaN            NaN            NaN\n",
      "freq         2            NaN            NaN            NaN            NaN\n",
      "mean       NaN       0.002023      -0.002081       2.495128      95.000000\n",
      "std        NaN       1.732045       1.730417       3.473445      44.749921\n",
      "min        NaN      -8.760004      -7.084020     -11.970335       0.000000\n",
      "25%        NaN      -1.162288      -1.174820       0.130359      59.450441\n",
      "50%        NaN       0.009424      -0.009482       2.484236      94.925613\n",
      "75%        NaN       1.158535       1.163678       4.858794     130.595027\n",
      "max        NaN       7.238262       7.844801      16.739402     190.029838\n",
      "\n",
      "Количество нулевых значений:\n",
      " id         0\n",
      "f0         0\n",
      "f1         0\n",
      "f2         0\n",
      "product    0\n",
      "dtype: int64\n",
      "\n",
      "Количество дубликатов:\n",
      " 0\n",
      "Количество уникальных значений в столбце \"id\":\n",
      " KUPhW    2\n",
      "xCHr8    2\n",
      "VF7Jo    2\n",
      "Vcm5J    2\n",
      "u4x00    1\n",
      "        ..\n",
      "jW4T3    1\n",
      "RKMiT    1\n",
      "C8zYD    1\n",
      "uZoHA    1\n",
      "FLOnD    1\n",
      "Name: id, Length: 99996, dtype: int64\n",
      "Корреляция:\n",
      "                f0        f1        f2   product\n",
      "f0       1.000000  0.000528 -0.000448 -0.001987\n",
      "f1       0.000528  1.000000  0.000779 -0.001012\n",
      "f2      -0.000448  0.000779  1.000000  0.445871\n",
      "product -0.001987 -0.001012  0.445871  1.000000\n",
      "\n",
      "Распределение значений признаков:\n",
      "\n"
     ]
    },
    {
     "data": {
      "image/png": "[encoded data removed]",
      "text/plain": [
       "<Figure size 432x288 with 4 Axes>"
      ]
     },
     "metadata": {
      "needs_background": "light"
     },
     "output_type": "display_data"
    }
   ],
   "source": [
    "data_info(data2)"
   ]
  },
  {
   "cell_type": "markdown",
   "id": "f7ef8562",
   "metadata": {},
   "source": [
    "Видим корреляцию у f2 и product = 0.44"
   ]
  },
  {
   "cell_type": "markdown",
   "id": "ecfb6e90",
   "metadata": {},
   "source": [
    "Как видим, значения f2 у второй скважины(data1) имеют необычное распределение, в то время как значения остальных признаков у всех скважин имеют нормальное распределение. \n",
    "\n",
    "Корреляция у второго признака (f2) и объёма нефти (product) у второго (data1) региона очень высокая (0.99)"
   ]
  },
  {
   "cell_type": "markdown",
   "id": "78f94197",
   "metadata": {},
   "source": [
    "Пропусков или иных аномалий не видно\n",
    "\n",
    "В таблицах есть следующие данные:\n",
    "\n",
    "**id** — уникальный идентификатор скважины;\n",
    "\n",
    "**f0, f1, f2** — три признака точек (неважно, что они означают, но сами признаки значимы);\n",
    "\n",
    "**product** — объём запасов в скважине (тыс. баррелей)."
   ]
  },
  {
   "cell_type": "markdown",
   "id": "e7d76386",
   "metadata": {},
   "source": [
    "Как видим, данные по некоторым скважинам повторяются"
   ]
  },
  {
   "cell_type": "markdown",
   "id": "ab1d1d82",
   "metadata": {},
   "source": [
    "## Обучение и проверка модели"
   ]
  },
  {
   "cell_type": "markdown",
   "id": "aa36ba49",
   "metadata": {},
   "source": [
    "Так как все процедуры для трёх скважин будут одинаковые, удобнее для работы будет написать функцию"
   ]
  },
  {
   "cell_type": "markdown",
   "id": "f1911629",
   "metadata": {},
   "source": [
    "### Напишем функцию, которая будет: \n",
    "#### разбивать данные на обучающую и валидационную выборки в соотношении 75:25\n",
    "#### обучать модель и делать предсказания на валидационной выборке\n",
    "#### сохранять предсказания и правильные ответы на валидационной выборке\n",
    "#### печатать на экране средний запас предсказанного сырья и RMSE модели"
   ]
  },
  {
   "cell_type": "code",
   "execution_count": 10,
   "id": "21354f99",
   "metadata": {
    "ExecuteTime": {
     "end_time": "2023-04-10T12:03:22.525137Z",
     "start_time": "2023-04-10T12:03:22.513666Z"
    }
   },
   "outputs": [],
   "source": [
    "def training(data):\n",
    "    \n",
    "    features = data.drop(['product','id'], axis=1)\n",
    "    target = data['product']\n",
    "    features_train, features_valid, target_train, target_valid = (\n",
    "        train_test_split(features, target, test_size=0.25,\n",
    "                         random_state=12345)) #разбиваем данные\n",
    "    scaler = StandardScaler()\n",
    "    features_train = scaler.fit_transform(features_train)\n",
    "    features_valid = scaler.transform(features_valid)\n",
    "    \n",
    "    model = LinearRegression() #обучаем модель\n",
    "    model.fit(features_train, target_train)\n",
    "    predictions = model.predict(features_valid) #сохраняем предсказания\n",
    "    predictions = pd.Series(predictions)\n",
    "    rmse = (mean_squared_error(predictions, target_valid))**(0.5)\n",
    "    mean_product = sum(predictions) / len(predictions)\n",
    "    \n",
    "    print('RMSE: ', rmse)\n",
    "    print('Mean product: ', mean_product)\n",
    "    \n",
    "    return (predictions, target_valid.reset_index(drop=True), rmse)"
   ]
  },
  {
   "cell_type": "code",
   "execution_count": 11,
   "id": "dabcd6b6",
   "metadata": {
    "ExecuteTime": {
     "end_time": "2023-04-10T12:03:22.629794Z",
     "start_time": "2023-04-10T12:03:22.529608Z"
    }
   },
   "outputs": [
    {
     "name": "stdout",
     "output_type": "stream",
     "text": [
      "RMSE:  37.5794217150813\n",
      "Mean product:  92.59256778438008\n"
     ]
    },
    {
     "data": {
      "text/plain": [
       "(0         95.894952\n",
       " 1         77.572583\n",
       " 2         77.892640\n",
       " 3         90.175134\n",
       " 4         70.510088\n",
       "             ...    \n",
       " 24995    103.037104\n",
       " 24996     85.403255\n",
       " 24997     61.509833\n",
       " 24998    118.180397\n",
       " 24999    118.169392\n",
       " Length: 25000, dtype: float64,\n",
       " 0         10.038645\n",
       " 1        114.551489\n",
       " 2        132.603635\n",
       " 3        169.072125\n",
       " 4        122.325180\n",
       "             ...    \n",
       " 24995    170.116726\n",
       " 24996     93.632175\n",
       " 24997    127.352259\n",
       " 24998     99.782700\n",
       " 24999    177.821022\n",
       " Name: product, Length: 25000, dtype: float64,\n",
       " 37.5794217150813)"
      ]
     },
     "execution_count": 11,
     "metadata": {},
     "output_type": "execute_result"
    }
   ],
   "source": [
    "training(data0)"
   ]
  },
  {
   "cell_type": "code",
   "execution_count": 12,
   "id": "09122acd",
   "metadata": {
    "ExecuteTime": {
     "end_time": "2023-04-10T12:03:22.720897Z",
     "start_time": "2023-04-10T12:03:22.634537Z"
    }
   },
   "outputs": [
    {
     "name": "stdout",
     "output_type": "stream",
     "text": [
      "RMSE:  0.893099286775617\n",
      "Mean product:  68.7285468954458\n"
     ]
    },
    {
     "data": {
      "text/plain": [
       "(0         82.663314\n",
       " 1         54.431786\n",
       " 2         29.748760\n",
       " 3         53.552133\n",
       " 4          1.243856\n",
       "             ...    \n",
       " 24995    136.869211\n",
       " 24996    110.693465\n",
       " 24997    137.879341\n",
       " 24998     83.761966\n",
       " 24999     53.958466\n",
       " Length: 25000, dtype: float64,\n",
       " 0         80.859783\n",
       " 1         53.906522\n",
       " 2         30.132364\n",
       " 3         53.906522\n",
       " 4          0.000000\n",
       "             ...    \n",
       " 24995    137.945408\n",
       " 24996    110.992147\n",
       " 24997    137.945408\n",
       " 24998     84.038886\n",
       " 24999     53.906522\n",
       " Name: product, Length: 25000, dtype: float64,\n",
       " 0.893099286775617)"
      ]
     },
     "execution_count": 12,
     "metadata": {},
     "output_type": "execute_result"
    }
   ],
   "source": [
    "training(data1)"
   ]
  },
  {
   "cell_type": "code",
   "execution_count": 13,
   "id": "b6dd89fa",
   "metadata": {
    "ExecuteTime": {
     "end_time": "2023-04-10T12:03:22.802263Z",
     "start_time": "2023-04-10T12:03:22.726343Z"
    }
   },
   "outputs": [
    {
     "name": "stdout",
     "output_type": "stream",
     "text": [
      "RMSE:  40.02970873393434\n",
      "Mean product:  94.96504596800506\n"
     ]
    },
    {
     "data": {
      "text/plain": [
       "(0         93.599633\n",
       " 1         75.105159\n",
       " 2         90.066809\n",
       " 3        105.162375\n",
       " 4        115.303310\n",
       "             ...    \n",
       " 24995     78.765887\n",
       " 24996     95.603394\n",
       " 24997     99.407281\n",
       " 24998     77.779912\n",
       " 24999    129.032417\n",
       " Length: 25000, dtype: float64,\n",
       " 0         61.212375\n",
       " 1         41.850118\n",
       " 2         57.776581\n",
       " 3        100.053761\n",
       " 4        109.897122\n",
       "             ...    \n",
       " 24995     28.492402\n",
       " 24996     21.431303\n",
       " 24997    125.487229\n",
       " 24998     99.422903\n",
       " 24999    127.445075\n",
       " Name: product, Length: 25000, dtype: float64,\n",
       " 40.02970873393434)"
      ]
     },
     "execution_count": 13,
     "metadata": {},
     "output_type": "execute_result"
    }
   ],
   "source": [
    "training(data2)"
   ]
  },
  {
   "cell_type": "code",
   "execution_count": 14,
   "id": "0b0dd8ae",
   "metadata": {
    "ExecuteTime": {
     "end_time": "2023-04-10T12:03:22.888163Z",
     "start_time": "2023-04-10T12:03:22.807285Z"
    }
   },
   "outputs": [
    {
     "name": "stdout",
     "output_type": "stream",
     "text": [
      "RMSE:  37.5794217150813\n",
      "Mean product:  92.59256778438008\n"
     ]
    }
   ],
   "source": [
    "predictions0, target_valid0, rmse0 = training(data0)"
   ]
  },
  {
   "cell_type": "code",
   "execution_count": 15,
   "id": "bc57f7e8",
   "metadata": {
    "ExecuteTime": {
     "end_time": "2023-04-10T12:03:22.975092Z",
     "start_time": "2023-04-10T12:03:22.893679Z"
    }
   },
   "outputs": [
    {
     "name": "stdout",
     "output_type": "stream",
     "text": [
      "RMSE:  0.893099286775617\n",
      "Mean product:  68.7285468954458\n"
     ]
    }
   ],
   "source": [
    "predictions1, target_valid1, rmse1 = training(data1)"
   ]
  },
  {
   "cell_type": "code",
   "execution_count": 16,
   "id": "e5e8918c",
   "metadata": {
    "ExecuteTime": {
     "end_time": "2023-04-10T12:03:23.053930Z",
     "start_time": "2023-04-10T12:03:22.979967Z"
    }
   },
   "outputs": [
    {
     "name": "stdout",
     "output_type": "stream",
     "text": [
      "RMSE:  40.02970873393434\n",
      "Mean product:  94.96504596800506\n"
     ]
    }
   ],
   "source": [
    "predictions2, target_valid2, rmse2 = training(data2)"
   ]
  },
  {
   "cell_type": "markdown",
   "id": "a3e6b7f5",
   "metadata": {},
   "source": [
    "### Вывод"
   ]
  },
  {
   "cell_type": "markdown",
   "id": "e3b6690d",
   "metadata": {},
   "source": [
    "Получили следующие результаты:\n",
    "\n",
    "data0 : \n",
    "\n",
    "RMSE:  37.57942171508131\n",
    "\n",
    "Mean product:  92.59256778438008\n",
    "\n",
    "data1:\n",
    "\n",
    "RMSE:  0.893099286775618\n",
    "\n",
    "Mean product:  68.72854689544583\n",
    "\n",
    "data2:\n",
    "\n",
    "RMSE:  40.02970873393434\n",
    "\n",
    "Mean product:  94.96504596800509\n",
    "\n",
    "\n",
    "Максимальное среднее значение в третьем (data2) регионе, но не забываем, что нам надо будет исследовать только 200 наилучших точек в регионе\n",
    "\n",
    "Наименьшая rmse во втором (data1) регионе\n"
   ]
  },
  {
   "cell_type": "markdown",
   "id": "7616f23f",
   "metadata": {},
   "source": [
    "## Подготовка к расчёту прибыли"
   ]
  },
  {
   "cell_type": "markdown",
   "id": "dbba39a6",
   "metadata": {},
   "source": [
    "### Все ключевые значения для расчётов сохраним в отдельных переменных."
   ]
  },
  {
   "cell_type": "code",
   "execution_count": 17,
   "id": "c5f6964b",
   "metadata": {
    "ExecuteTime": {
     "end_time": "2023-04-10T12:03:23.065678Z",
     "start_time": "2023-04-10T12:03:23.059035Z"
    }
   },
   "outputs": [],
   "source": [
    "BUDGET = 10 ** 10 # бюджет на разработку скважин в регионе = 10 млрд\n",
    "INCOME_FOR_PRODUCT = 450_000 # доход с каждой единицы продукта составляет 450 тыс. рублей\n",
    "PROBABILITY_OF_LOSS = 2.5 # нужно оставить лишь те регионы, в которых вероятность убытков меньше 2.5%\n",
    "NUMBER_OF_DRILLING_POINTS = 200 # по условию число точек для бурения = 200"
   ]
  },
  {
   "cell_type": "markdown",
   "id": "edf578b1",
   "metadata": {},
   "source": [
    "### Рассчитаем достаточный объём сырья для безубыточной разработки новой скважины. Сравним полученный объём сырья со средним запасом в каждом регионе."
   ]
  },
  {
   "cell_type": "code",
   "execution_count": 18,
   "id": "7085859f",
   "metadata": {
    "ExecuteTime": {
     "end_time": "2023-04-10T12:03:23.083943Z",
     "start_time": "2023-04-10T12:03:23.071313Z"
    }
   },
   "outputs": [
    {
     "name": "stdout",
     "output_type": "stream",
     "text": [
      "Точка безубыточности: 22222.22 баррелей\n"
     ]
    }
   ],
   "source": [
    "ENOUGH_RAW_MATERIAL = BUDGET / INCOME_FOR_PRODUCT\n",
    "print(\"Точка безубыточности: {0:.2f} баррелей\".format(ENOUGH_RAW_MATERIAL))"
   ]
  },
  {
   "cell_type": "code",
   "execution_count": 19,
   "id": "85cffd10",
   "metadata": {
    "ExecuteTime": {
     "end_time": "2023-04-10T12:03:23.098993Z",
     "start_time": "2023-04-10T12:03:23.091019Z"
    }
   },
   "outputs": [
    {
     "name": "stdout",
     "output_type": "stream",
     "text": [
      "Средний объем нефти в скважине для безубыточного функционирования: 112\n"
     ]
    }
   ],
   "source": [
    "print(\"Средний объем нефти в скважине для безубыточного функционирования:\", math.ceil(ENOUGH_RAW_MATERIAL/200))"
   ]
  },
  {
   "cell_type": "markdown",
   "id": "585e96a0",
   "metadata": {},
   "source": [
    "### Напишем выводы по этапу подготовки расчёта прибыли."
   ]
  },
  {
   "cell_type": "markdown",
   "id": "cea8e787",
   "metadata": {},
   "source": [
    "В среднем запас сырья в скважинах меньше, чем точка безубыточности, поэтому важно выбрать именно нужный регион, и 200 точек с наибольшими запасами"
   ]
  },
  {
   "cell_type": "markdown",
   "id": "acb3efc5",
   "metadata": {},
   "source": [
    "## Напишем функцию для расчёта прибыли по выбранным скважинам и предсказаниям модели"
   ]
  },
  {
   "cell_type": "markdown",
   "id": "0bd52251",
   "metadata": {},
   "source": [
    "### Выберем скважины с максимальными значениями предсказаний. "
   ]
  },
  {
   "cell_type": "code",
   "execution_count": 20,
   "id": "c19adb02",
   "metadata": {
    "ExecuteTime": {
     "end_time": "2023-04-10T12:03:23.122738Z",
     "start_time": "2023-04-10T12:03:23.104263Z"
    }
   },
   "outputs": [
    {
     "data": {
      "text/plain": [
       "9317     180.180713\n",
       "219      176.252213\n",
       "10015    175.850623\n",
       "11584    175.658429\n",
       "23388    173.299686\n",
       "            ...    \n",
       "23129     10.209351\n",
       "9078       8.798531\n",
       "21875      6.569477\n",
       "14503      4.980987\n",
       "20881     -9.367846\n",
       "Length: 25000, dtype: float64"
      ]
     },
     "execution_count": 20,
     "metadata": {},
     "output_type": "execute_result"
    }
   ],
   "source": [
    "predictions0.sort_values(ascending=False)"
   ]
  },
  {
   "cell_type": "code",
   "execution_count": 21,
   "id": "03a5a741",
   "metadata": {
    "ExecuteTime": {
     "end_time": "2023-04-10T12:03:23.145623Z",
     "start_time": "2023-04-10T12:03:23.127142Z"
    }
   },
   "outputs": [
    {
     "data": {
      "text/plain": [
       "9317     180.180713\n",
       "219      176.252213\n",
       "10015    175.850623\n",
       "11584    175.658429\n",
       "23388    173.299686\n",
       "            ...    \n",
       "7888     148.507064\n",
       "7890     148.481767\n",
       "24051    148.476498\n",
       "24160    148.436761\n",
       "20340    148.365941\n",
       "Length: 200, dtype: float64"
      ]
     },
     "execution_count": 21,
     "metadata": {},
     "output_type": "execute_result"
    }
   ],
   "source": [
    "predictions0.sort_values(ascending=False)[:200]"
   ]
  },
  {
   "cell_type": "markdown",
   "id": "c9a4d368",
   "metadata": {},
   "source": [
    "### Просуммируем целевое значение объёма сырья, соответствующее этим предсказаниям."
   ]
  },
  {
   "cell_type": "code",
   "execution_count": 22,
   "id": "bc99ad45",
   "metadata": {
    "ExecuteTime": {
     "end_time": "2023-04-10T12:03:23.169189Z",
     "start_time": "2023-04-10T12:03:23.150509Z"
    }
   },
   "outputs": [
    {
     "data": {
      "text/plain": [
       "31102.330838811406"
      ]
     },
     "execution_count": 22,
     "metadata": {},
     "output_type": "execute_result"
    }
   ],
   "source": [
    "sum(predictions0.sort_values(ascending=False)[:200])"
   ]
  },
  {
   "cell_type": "markdown",
   "id": "6dcbed52",
   "metadata": {},
   "source": [
    "### Рассчитаем прибыль для полученного объёма сырья."
   ]
  },
  {
   "cell_type": "code",
   "execution_count": 23,
   "id": "e336079e",
   "metadata": {
    "ExecuteTime": {
     "end_time": "2023-04-10T12:03:23.190955Z",
     "start_time": "2023-04-10T12:03:23.174642Z"
    }
   },
   "outputs": [
    {
     "data": {
      "text/plain": [
       "13996048877.465132"
      ]
     },
     "execution_count": 23,
     "metadata": {},
     "output_type": "execute_result"
    }
   ],
   "source": [
    "income0 = sum(\n",
    "    predictions0.sort_values(ascending=False)[:200]) * INCOME_FOR_PRODUCT\n",
    "income0"
   ]
  },
  {
   "cell_type": "code",
   "execution_count": 24,
   "id": "e76386a9",
   "metadata": {
    "ExecuteTime": {
     "end_time": "2023-04-10T12:03:23.202613Z",
     "start_time": "2023-04-10T12:03:23.195281Z"
    }
   },
   "outputs": [
    {
     "name": "stdout",
     "output_type": "stream",
     "text": [
      "Прибыль с 200 точек нулевого региона, млн руб: 3996.0488774651317\n"
     ]
    }
   ],
   "source": [
    "print('Прибыль с 200 точек нулевого региона, млн руб:', (income0 - BUDGET)/1000000)"
   ]
  },
  {
   "cell_type": "markdown",
   "id": "89f8dfe5",
   "metadata": {},
   "source": [
    "Получили прибыль почти 4 млрд рублей"
   ]
  },
  {
   "cell_type": "markdown",
   "id": "14d82592",
   "metadata": {},
   "source": [
    "Теперь для простоты напишем функцию"
   ]
  },
  {
   "cell_type": "code",
   "execution_count": 51,
   "id": "10213308",
   "metadata": {},
   "outputs": [],
   "source": [
    "def profit(target, predictions):\n",
    "    predictions_sort = pd.Series(predictions).sort_values(ascending=False)[:NUMBER_OF_DRILLING_POINTS]\n",
    "    target_sort = target.reset_index(drop = True)[predictions_sort.index]\n",
    "    income = target_sort.sum()\n",
    "    return round((income * INCOME_FOR_PRODUCT) - BUDGET)"
   ]
  },
  {
   "cell_type": "code",
   "execution_count": 52,
   "id": "8a15ea8e",
   "metadata": {
    "ExecuteTime": {
     "end_time": "2023-04-10T12:20:08.856347Z",
     "start_time": "2023-04-10T12:20:08.844449Z"
    }
   },
   "outputs": [
    {
     "name": "stdout",
     "output_type": "stream",
     "text": [
      "Прибыль нулевого региона, млрд руб: 3.321\n"
     ]
    }
   ],
   "source": [
    "print('Прибыль нулевого региона, млрд руб: {:.3f}'.format((\n",
    "    profit(target_valid0, predictions0)/1000000000)))"
   ]
  },
  {
   "cell_type": "code",
   "execution_count": 53,
   "id": "f8b57c8b",
   "metadata": {
    "ExecuteTime": {
     "end_time": "2023-04-10T12:20:38.753810Z",
     "start_time": "2023-04-10T12:20:38.740555Z"
    }
   },
   "outputs": [
    {
     "name": "stdout",
     "output_type": "stream",
     "text": [
      "Прибыль первого региона, млрд руб: 2.415\n"
     ]
    }
   ],
   "source": [
    "print('Прибыль первого региона, млрд руб: {:.3f}'.format((\n",
    "    profit(target_valid1, predictions1)/1000000000)))"
   ]
  },
  {
   "cell_type": "code",
   "execution_count": 54,
   "id": "039b224c",
   "metadata": {
    "ExecuteTime": {
     "end_time": "2023-04-10T12:20:50.095967Z",
     "start_time": "2023-04-10T12:20:50.084258Z"
    }
   },
   "outputs": [
    {
     "name": "stdout",
     "output_type": "stream",
     "text": [
      "Прибыль второго региона, млрд руб: 2.710\n"
     ]
    }
   ],
   "source": [
    "print('Прибыль второго региона, млрд руб: {:.3f}'.format((\n",
    "    profit(target_valid2, predictions2)/1000000000)))"
   ]
  },
  {
   "cell_type": "markdown",
   "id": "f66cb586",
   "metadata": {},
   "source": [
    "### Вывод"
   ]
  },
  {
   "cell_type": "markdown",
   "id": "ab629a0e",
   "metadata": {},
   "source": [
    "Получили прибыль 3,321 млрд в нулевом регионе, 2,415 млрд в первом и 2,71 млрд во втором"
   ]
  },
  {
   "cell_type": "markdown",
   "id": "f9332559",
   "metadata": {},
   "source": [
    "## Посчитаем риски и прибыль для каждого региона"
   ]
  },
  {
   "cell_type": "markdown",
   "id": "90ccf648",
   "metadata": {},
   "source": [
    "### Применим технику Bootstrap с 1000 выборок, чтобы найти распределение прибыли."
   ]
  },
  {
   "cell_type": "markdown",
   "id": "ff82a951",
   "metadata": {},
   "source": [
    "#### Напишем функцию"
   ]
  },
  {
   "cell_type": "code",
   "execution_count": 100,
   "id": "921b7828",
   "metadata": {
    "ExecuteTime": {
     "end_time": "2023-04-10T13:50:35.522172Z",
     "start_time": "2023-04-10T13:50:35.512713Z"
    }
   },
   "outputs": [],
   "source": [
    "def mean_profit(target_valid, predictions): \n",
    "\n",
    "    values = []\n",
    "    for i in range(1000):\n",
    "        predictions_subsample = predictions.sample(n = 500, replace=True,\n",
    "                                               random_state=state)\n",
    "        values.append(profit(target_valid, predictions_subsample))\n",
    "\n",
    "    values = pd.Series(values)\n",
    "    lower = values.quantile(0.025)\n",
    "    upper = values.quantile(0.975)\n",
    "    mean_profit_value = values.mean()\n",
    "    print('Минимальная прибыль:', values.min())\n",
    "    print('Средняя прибыль:', mean_profit_value)\n",
    "    print('2.5%-квантиль:', lower)\n",
    "    print('97.5%-квантиль:', upper)\n",
    "    print('Риск убытков:', (values < 0).sum()/len(values))\n",
    "    \n",
    "    return lower, upper"
   ]
  },
  {
   "cell_type": "markdown",
   "id": "128ca58b",
   "metadata": {},
   "source": [
    "### Найдём среднюю прибыль, 95%-й доверительный интервал и риск убытков. Убыток — это отрицательная прибыль"
   ]
  },
  {
   "cell_type": "code",
   "execution_count": 101,
   "id": "f99de27b",
   "metadata": {
    "ExecuteTime": {
     "end_time": "2023-04-10T13:50:44.269445Z",
     "start_time": "2023-04-10T13:50:36.676992Z"
    }
   },
   "outputs": [
    {
     "name": "stdout",
     "output_type": "stream",
     "text": [
      "Минимальная прибыль: -605126619\n",
      "Средняя прибыль: 392687400.325\n",
      "2.5%-квантиль: -119323478.1\n",
      "97.5%-квантиль: 887543110.2999998\n",
      "Риск убытков: 0.06\n"
     ]
    },
    {
     "data": {
      "text/plain": [
       "(-119323478.1, 887543110.2999998)"
      ]
     },
     "execution_count": 101,
     "metadata": {},
     "output_type": "execute_result"
    }
   ],
   "source": [
    "mean_profit(target_valid0, predictions0)"
   ]
  },
  {
   "cell_type": "code",
   "execution_count": 102,
   "id": "dfd69d27",
   "metadata": {
    "ExecuteTime": {
     "end_time": "2023-04-10T13:50:52.811623Z",
     "start_time": "2023-04-10T13:50:44.274731Z"
    }
   },
   "outputs": [
    {
     "name": "stdout",
     "output_type": "stream",
     "text": [
      "Минимальная прибыль: -278601478\n",
      "Средняя прибыль: 455650012.445\n",
      "2.5%-квантиль: 36734572.025\n",
      "97.5%-квантиль: 882305538.8\n",
      "Риск убытков: 0.016\n"
     ]
    },
    {
     "data": {
      "text/plain": [
       "(36734572.025, 882305538.8)"
      ]
     },
     "execution_count": 102,
     "metadata": {},
     "output_type": "execute_result"
    }
   ],
   "source": [
    "mean_profit(target_valid1, predictions1)"
   ]
  },
  {
   "cell_type": "code",
   "execution_count": 103,
   "id": "21849b36",
   "metadata": {
    "ExecuteTime": {
     "end_time": "2023-04-10T13:51:01.167536Z",
     "start_time": "2023-04-10T13:50:52.816299Z"
    }
   },
   "outputs": [
    {
     "name": "stdout",
     "output_type": "stream",
     "text": [
      "Минимальная прибыль: -714420607\n",
      "Средняя прибыль: 397474708.762\n",
      "2.5%-квантиль: -106587863.0\n",
      "97.5%-квантиль: 897500315.85\n",
      "Риск убытков: 0.071\n"
     ]
    },
    {
     "data": {
      "text/plain": [
       "(-106587863.0, 897500315.85)"
      ]
     },
     "execution_count": 103,
     "metadata": {},
     "output_type": "execute_result"
    }
   ],
   "source": [
    "mean_profit(target_valid2, predictions2)"
   ]
  },
  {
   "cell_type": "markdown",
   "id": "f524a6b6",
   "metadata": {},
   "source": [
    "Только у второго (data1) региона риск убытков меньше двух процентов"
   ]
  },
  {
   "cell_type": "markdown",
   "id": "6c6f813e",
   "metadata": {},
   "source": [
    "### Напишем выводы: предложим регион для разработки скважин и обоснуем выбор"
   ]
  },
  {
   "cell_type": "markdown",
   "id": "6909cc58",
   "metadata": {},
   "source": [
    "Из таблицы видно, что единственный регион, где вероятность убытков ниже, чем допустимое значение - второй (data1), поэтому для разработки скважин надо выбрать его.\n",
    "\n",
    "Также у второго региона самая высокая средняя прибыль."
   ]
  }
 ],
 "metadata": {
  "ExecuteTimeLog": [
   {
    "duration": 7741,
    "start_time": "2023-04-11T05:38:06.831Z"
   },
   {
    "duration": 848,
    "start_time": "2023-04-11T05:38:14.574Z"
   },
   {
    "duration": 204,
    "start_time": "2023-04-11T05:38:15.424Z"
   },
   {
    "duration": 212,
    "start_time": "2023-04-11T05:38:15.630Z"
   },
   {
    "duration": 3,
    "start_time": "2023-04-11T05:38:15.844Z"
   },
   {
    "duration": 5,
    "start_time": "2023-04-11T05:38:15.849Z"
   },
   {
    "duration": 563,
    "start_time": "2023-04-11T05:38:15.856Z"
   },
   {
    "duration": 523,
    "start_time": "2023-04-11T05:38:16.421Z"
   },
   {
    "duration": 660,
    "start_time": "2023-04-11T05:38:16.945Z"
   },
   {
    "duration": 12,
    "start_time": "2023-04-11T05:38:17.607Z"
   },
   {
    "duration": 86,
    "start_time": "2023-04-11T05:38:17.621Z"
   },
   {
    "duration": 186,
    "start_time": "2023-04-11T05:38:17.709Z"
   },
   {
    "duration": 211,
    "start_time": "2023-04-11T05:38:17.897Z"
   },
   {
    "duration": 115,
    "start_time": "2023-04-11T05:38:18.112Z"
   },
   {
    "duration": 118,
    "start_time": "2023-04-11T05:38:18.296Z"
   },
   {
    "duration": 198,
    "start_time": "2023-04-11T05:38:18.416Z"
   },
   {
    "duration": 4,
    "start_time": "2023-04-11T05:38:18.697Z"
   },
   {
    "duration": 96,
    "start_time": "2023-04-11T05:38:18.703Z"
   },
   {
    "duration": 4,
    "start_time": "2023-04-11T05:38:18.801Z"
   },
   {
    "duration": 25,
    "start_time": "2023-04-11T05:38:18.807Z"
   },
   {
    "duration": 17,
    "start_time": "2023-04-11T05:38:18.834Z"
   },
   {
    "duration": 7,
    "start_time": "2023-04-11T05:38:18.853Z"
   },
   {
    "duration": 16,
    "start_time": "2023-04-11T05:38:18.862Z"
   },
   {
    "duration": 4,
    "start_time": "2023-04-11T05:38:18.880Z"
   },
   {
    "duration": 21,
    "start_time": "2023-04-11T05:38:18.893Z"
   },
   {
    "duration": 21,
    "start_time": "2023-04-11T05:38:18.916Z"
   },
   {
    "duration": 13,
    "start_time": "2023-04-11T05:38:18.938Z"
   },
   {
    "duration": 7,
    "start_time": "2023-04-11T05:38:18.953Z"
   },
   {
    "duration": 5,
    "start_time": "2023-04-11T05:38:18.962Z"
   },
   {
    "duration": 4608,
    "start_time": "2023-04-11T05:38:18.968Z"
   },
   {
    "duration": 4726,
    "start_time": "2023-04-11T05:38:23.579Z"
   },
   {
    "duration": 4740,
    "start_time": "2023-04-11T05:38:28.307Z"
   },
   {
    "duration": 6,
    "start_time": "2023-04-11T05:38:44.624Z"
   },
   {
    "duration": 5,
    "start_time": "2023-04-11T05:45:57.372Z"
   },
   {
    "duration": 1675,
    "start_time": "2023-04-11T20:03:26.255Z"
   },
   {
    "duration": 583,
    "start_time": "2023-04-11T20:03:27.932Z"
   },
   {
    "duration": 209,
    "start_time": "2023-04-11T20:03:28.517Z"
   },
   {
    "duration": 211,
    "start_time": "2023-04-11T20:03:28.728Z"
   },
   {
    "duration": 3,
    "start_time": "2023-04-11T20:03:28.941Z"
   },
   {
    "duration": 5,
    "start_time": "2023-04-11T20:03:28.946Z"
   },
   {
    "duration": 560,
    "start_time": "2023-04-11T20:03:28.953Z"
   },
   {
    "duration": 542,
    "start_time": "2023-04-11T20:03:29.515Z"
   },
   {
    "duration": 609,
    "start_time": "2023-04-11T20:03:30.059Z"
   },
   {
    "duration": 14,
    "start_time": "2023-04-11T20:03:30.671Z"
   },
   {
    "duration": 113,
    "start_time": "2023-04-11T20:03:30.688Z"
   },
   {
    "duration": 106,
    "start_time": "2023-04-11T20:03:30.886Z"
   },
   {
    "duration": 199,
    "start_time": "2023-04-11T20:03:30.994Z"
   },
   {
    "duration": 191,
    "start_time": "2023-04-11T20:03:31.195Z"
   },
   {
    "duration": 196,
    "start_time": "2023-04-11T20:03:31.391Z"
   },
   {
    "duration": 197,
    "start_time": "2023-04-11T20:03:31.589Z"
   },
   {
    "duration": 98,
    "start_time": "2023-04-11T20:03:31.789Z"
   },
   {
    "duration": 35,
    "start_time": "2023-04-11T20:03:31.888Z"
   },
   {
    "duration": 20,
    "start_time": "2023-04-11T20:03:31.925Z"
   },
   {
    "duration": 56,
    "start_time": "2023-04-11T20:03:31.946Z"
   },
   {
    "duration": 175,
    "start_time": "2023-04-11T20:03:32.004Z"
   },
   {
    "duration": 36,
    "start_time": "2023-04-11T20:03:32.181Z"
   },
   {
    "duration": 26,
    "start_time": "2023-04-11T20:03:32.219Z"
   },
   {
    "duration": 13,
    "start_time": "2023-04-11T20:03:32.247Z"
   },
   {
    "duration": 31,
    "start_time": "2023-04-11T20:03:32.262Z"
   },
   {
    "duration": 18,
    "start_time": "2023-04-11T20:03:32.295Z"
   },
   {
    "duration": 16,
    "start_time": "2023-04-11T20:03:32.315Z"
   },
   {
    "duration": 7,
    "start_time": "2023-04-11T20:03:32.334Z"
   },
   {
    "duration": 7,
    "start_time": "2023-04-11T20:03:32.342Z"
   },
   {
    "duration": 4422,
    "start_time": "2023-04-11T20:03:32.351Z"
   },
   {
    "duration": 4282,
    "start_time": "2023-04-11T20:03:36.775Z"
   },
   {
    "duration": 4371,
    "start_time": "2023-04-11T20:03:41.058Z"
   },
   {
    "duration": 5,
    "start_time": "2023-04-11T20:07:56.042Z"
   },
   {
    "duration": 563,
    "start_time": "2023-04-11T20:07:58.155Z"
   },
   {
    "duration": 516,
    "start_time": "2023-04-11T20:08:07.512Z"
   },
   {
    "duration": 519,
    "start_time": "2023-04-11T20:08:08.295Z"
   },
   {
    "duration": 5,
    "start_time": "2023-04-11T20:08:59.628Z"
   },
   {
    "duration": 569,
    "start_time": "2023-04-11T20:09:01.044Z"
   },
   {
    "duration": 6,
    "start_time": "2023-04-11T20:10:01.802Z"
   },
   {
    "duration": 962,
    "start_time": "2023-04-11T20:10:03.370Z"
   },
   {
    "duration": 5,
    "start_time": "2023-04-11T20:10:39.498Z"
   },
   {
    "duration": 586,
    "start_time": "2023-04-11T20:10:40.296Z"
   },
   {
    "duration": 579,
    "start_time": "2023-04-11T20:11:02.083Z"
   },
   {
    "duration": 544,
    "start_time": "2023-04-11T20:11:02.664Z"
   },
   {
    "duration": 4,
    "start_time": "2023-04-11T20:20:53.679Z"
   },
   {
    "duration": 3,
    "start_time": "2023-04-11T20:21:02.270Z"
   },
   {
    "duration": 3,
    "start_time": "2023-04-11T20:21:42.199Z"
   },
   {
    "duration": 4,
    "start_time": "2023-04-11T20:21:49.017Z"
   },
   {
    "duration": 4,
    "start_time": "2023-04-11T20:22:39.491Z"
   },
   {
    "duration": 7,
    "start_time": "2023-04-11T20:22:41.349Z"
   },
   {
    "duration": 3,
    "start_time": "2023-04-11T20:22:42.203Z"
   },
   {
    "duration": 9,
    "start_time": "2023-04-11T20:26:30.722Z"
   },
   {
    "duration": 7,
    "start_time": "2023-04-11T20:26:44.064Z"
   },
   {
    "duration": 7,
    "start_time": "2023-04-11T20:26:44.601Z"
   },
   {
    "duration": 5,
    "start_time": "2023-04-11T20:27:18.490Z"
   },
   {
    "duration": 4438,
    "start_time": "2023-04-11T20:27:20.880Z"
   },
   {
    "duration": 4560,
    "start_time": "2023-04-11T20:27:25.320Z"
   },
   {
    "duration": 4634,
    "start_time": "2023-04-11T20:27:29.882Z"
   },
   {
    "duration": 5,
    "start_time": "2023-04-11T21:01:10.005Z"
   },
   {
    "duration": 6,
    "start_time": "2023-04-11T21:01:16.857Z"
   },
   {
    "duration": 5,
    "start_time": "2023-04-11T21:03:37.301Z"
   },
   {
    "duration": 106,
    "start_time": "2023-04-11T21:03:53.273Z"
   },
   {
    "duration": 9,
    "start_time": "2023-04-11T21:03:58.779Z"
   },
   {
    "duration": 8,
    "start_time": "2023-04-11T21:04:17.810Z"
   },
   {
    "duration": 8,
    "start_time": "2023-04-11T21:04:19.633Z"
   },
   {
    "duration": 93,
    "start_time": "2023-04-11T21:07:03.093Z"
   },
   {
    "duration": 40,
    "start_time": "2023-04-11T21:07:07.869Z"
   },
   {
    "duration": 92,
    "start_time": "2023-04-11T21:07:14.300Z"
   },
   {
    "duration": 9,
    "start_time": "2023-04-11T21:08:27.410Z"
   },
   {
    "duration": 3,
    "start_time": "2023-04-11T21:12:36.752Z"
   },
   {
    "duration": 9,
    "start_time": "2023-04-11T21:12:37.922Z"
   },
   {
    "duration": 9,
    "start_time": "2023-04-11T21:12:39.227Z"
   },
   {
    "duration": 9,
    "start_time": "2023-04-11T21:12:40.445Z"
   },
   {
    "duration": 3,
    "start_time": "2023-04-11T21:15:31.059Z"
   },
   {
    "duration": 8,
    "start_time": "2023-04-11T21:15:31.623Z"
   },
   {
    "duration": 10,
    "start_time": "2023-04-11T21:15:32.375Z"
   },
   {
    "duration": 8,
    "start_time": "2023-04-11T21:15:32.991Z"
   },
   {
    "duration": 7,
    "start_time": "2023-04-11T21:17:24.989Z"
   },
   {
    "duration": 7,
    "start_time": "2023-04-11T21:18:11.435Z"
   },
   {
    "duration": 7,
    "start_time": "2023-04-11T21:18:42.660Z"
   },
   {
    "duration": 7,
    "start_time": "2023-04-11T21:18:48.323Z"
   },
   {
    "duration": 8,
    "start_time": "2023-04-11T21:18:54.939Z"
   },
   {
    "duration": 6,
    "start_time": "2023-04-11T21:20:33.853Z"
   },
   {
    "duration": 1023,
    "start_time": "2023-04-11T21:20:34.891Z"
   },
   {
    "duration": 1014,
    "start_time": "2023-04-11T21:20:36.157Z"
   },
   {
    "duration": 1024,
    "start_time": "2023-04-11T21:20:37.581Z"
   },
   {
    "duration": 4,
    "start_time": "2023-04-11T21:21:11.406Z"
   },
   {
    "duration": 1403,
    "start_time": "2023-04-11T21:27:04.898Z"
   },
   {
    "duration": 143,
    "start_time": "2023-04-11T21:27:06.303Z"
   },
   {
    "duration": 129,
    "start_time": "2023-04-11T21:27:06.448Z"
   },
   {
    "duration": 130,
    "start_time": "2023-04-11T21:27:06.579Z"
   },
   {
    "duration": 3,
    "start_time": "2023-04-11T21:27:06.710Z"
   },
   {
    "duration": 5,
    "start_time": "2023-04-11T21:27:06.715Z"
   },
   {
    "duration": 580,
    "start_time": "2023-04-11T21:27:06.721Z"
   },
   {
    "duration": 511,
    "start_time": "2023-04-11T21:27:07.303Z"
   },
   {
    "duration": 618,
    "start_time": "2023-04-11T21:27:07.816Z"
   },
   {
    "duration": 6,
    "start_time": "2023-04-11T21:27:08.437Z"
   },
   {
    "duration": 143,
    "start_time": "2023-04-11T21:27:08.444Z"
   },
   {
    "duration": 202,
    "start_time": "2023-04-11T21:27:08.590Z"
   },
   {
    "duration": 292,
    "start_time": "2023-04-11T21:27:08.794Z"
   },
   {
    "duration": 99,
    "start_time": "2023-04-11T21:27:09.088Z"
   },
   {
    "duration": 196,
    "start_time": "2023-04-11T21:27:09.193Z"
   },
   {
    "duration": 103,
    "start_time": "2023-04-11T21:27:09.484Z"
   },
   {
    "duration": 4,
    "start_time": "2023-04-11T21:27:09.589Z"
   },
   {
    "duration": 115,
    "start_time": "2023-04-11T21:27:09.686Z"
   },
   {
    "duration": 0,
    "start_time": "2023-04-11T21:27:09.803Z"
   },
   {
    "duration": 0,
    "start_time": "2023-04-11T21:27:09.804Z"
   },
   {
    "duration": 0,
    "start_time": "2023-04-11T21:27:09.805Z"
   },
   {
    "duration": 0,
    "start_time": "2023-04-11T21:27:09.806Z"
   },
   {
    "duration": 0,
    "start_time": "2023-04-11T21:27:09.807Z"
   },
   {
    "duration": 0,
    "start_time": "2023-04-11T21:27:09.809Z"
   },
   {
    "duration": 0,
    "start_time": "2023-04-11T21:27:09.810Z"
   },
   {
    "duration": 0,
    "start_time": "2023-04-11T21:27:09.811Z"
   },
   {
    "duration": 0,
    "start_time": "2023-04-11T21:27:09.812Z"
   },
   {
    "duration": 0,
    "start_time": "2023-04-11T21:27:09.813Z"
   },
   {
    "duration": 0,
    "start_time": "2023-04-11T21:27:09.814Z"
   },
   {
    "duration": 0,
    "start_time": "2023-04-11T21:27:09.816Z"
   },
   {
    "duration": 0,
    "start_time": "2023-04-11T21:27:09.817Z"
   },
   {
    "duration": 0,
    "start_time": "2023-04-11T21:27:09.818Z"
   },
   {
    "duration": 0,
    "start_time": "2023-04-11T21:27:09.819Z"
   },
   {
    "duration": 3,
    "start_time": "2023-04-11T21:27:37.738Z"
   },
   {
    "duration": 4,
    "start_time": "2023-04-11T21:27:38.484Z"
   },
   {
    "duration": 8,
    "start_time": "2023-04-11T21:27:41.432Z"
   },
   {
    "duration": 9,
    "start_time": "2023-04-11T21:27:41.629Z"
   },
   {
    "duration": 7,
    "start_time": "2023-04-11T21:27:42.024Z"
   },
   {
    "duration": 7,
    "start_time": "2023-04-11T21:27:42.413Z"
   },
   {
    "duration": 4,
    "start_time": "2023-04-11T21:27:42.604Z"
   },
   {
    "duration": 2,
    "start_time": "2023-04-11T21:27:43.177Z"
   },
   {
    "duration": 4,
    "start_time": "2023-04-11T21:27:43.750Z"
   },
   {
    "duration": 11,
    "start_time": "2023-04-11T21:27:44.253Z"
   },
   {
    "duration": 9,
    "start_time": "2023-04-11T21:27:44.332Z"
   },
   {
    "duration": 9,
    "start_time": "2023-04-11T21:27:44.421Z"
   },
   {
    "duration": 4,
    "start_time": "2023-04-11T21:27:44.921Z"
   },
   {
    "duration": 0,
    "start_time": "2023-04-11T21:42:55.988Z"
   },
   {
    "duration": 0,
    "start_time": "2023-04-11T21:42:55.989Z"
   },
   {
    "duration": 0,
    "start_time": "2023-04-11T21:42:55.990Z"
   },
   {
    "duration": 0,
    "start_time": "2023-04-11T21:42:55.991Z"
   },
   {
    "duration": 1409,
    "start_time": "2023-04-11T21:43:17.613Z"
   },
   {
    "duration": 136,
    "start_time": "2023-04-11T21:43:19.024Z"
   },
   {
    "duration": 118,
    "start_time": "2023-04-11T21:43:19.161Z"
   },
   {
    "duration": 120,
    "start_time": "2023-04-11T21:43:19.281Z"
   },
   {
    "duration": 3,
    "start_time": "2023-04-11T21:43:19.403Z"
   },
   {
    "duration": 5,
    "start_time": "2023-04-11T21:43:19.407Z"
   },
   {
    "duration": 522,
    "start_time": "2023-04-11T21:43:19.414Z"
   },
   {
    "duration": 472,
    "start_time": "2023-04-11T21:43:19.938Z"
   },
   {
    "duration": 574,
    "start_time": "2023-04-11T21:43:20.411Z"
   },
   {
    "duration": 5,
    "start_time": "2023-04-11T21:43:20.988Z"
   },
   {
    "duration": 190,
    "start_time": "2023-04-11T21:43:20.995Z"
   },
   {
    "duration": 103,
    "start_time": "2023-04-11T21:43:21.187Z"
   },
   {
    "duration": 199,
    "start_time": "2023-04-11T21:43:21.292Z"
   },
   {
    "duration": 194,
    "start_time": "2023-04-11T21:43:21.492Z"
   },
   {
    "duration": 198,
    "start_time": "2023-04-11T21:43:21.688Z"
   },
   {
    "duration": 197,
    "start_time": "2023-04-11T21:43:21.889Z"
   },
   {
    "duration": 4,
    "start_time": "2023-04-11T21:43:22.089Z"
   },
   {
    "duration": 93,
    "start_time": "2023-04-11T21:43:22.095Z"
   },
   {
    "duration": 5,
    "start_time": "2023-04-11T21:43:22.189Z"
   },
   {
    "duration": 10,
    "start_time": "2023-04-11T21:43:22.196Z"
   },
   {
    "duration": 8,
    "start_time": "2023-04-11T21:43:22.207Z"
   },
   {
    "duration": 7,
    "start_time": "2023-04-11T21:43:22.216Z"
   },
   {
    "duration": 6,
    "start_time": "2023-04-11T21:43:22.224Z"
   },
   {
    "duration": 3,
    "start_time": "2023-04-11T21:43:22.232Z"
   },
   {
    "duration": 5,
    "start_time": "2023-04-11T21:43:22.237Z"
   },
   {
    "duration": 44,
    "start_time": "2023-04-11T21:43:22.243Z"
   },
   {
    "duration": 9,
    "start_time": "2023-04-11T21:43:22.289Z"
   },
   {
    "duration": 7,
    "start_time": "2023-04-11T21:43:22.302Z"
   },
   {
    "duration": 7,
    "start_time": "2023-04-11T21:43:22.310Z"
   },
   {
    "duration": 4,
    "start_time": "2023-04-11T21:43:22.319Z"
   },
   {
    "duration": 154,
    "start_time": "2023-04-11T21:43:22.324Z"
   },
   {
    "duration": 0,
    "start_time": "2023-04-11T21:43:22.480Z"
   },
   {
    "duration": 0,
    "start_time": "2023-04-11T21:43:22.485Z"
   },
   {
    "duration": 7,
    "start_time": "2023-04-11T21:47:57.159Z"
   },
   {
    "duration": 26,
    "start_time": "2023-04-11T21:47:58.203Z"
   },
   {
    "duration": 3,
    "start_time": "2023-04-11T21:48:51.683Z"
   },
   {
    "duration": 7,
    "start_time": "2023-04-11T21:48:52.376Z"
   },
   {
    "duration": 7,
    "start_time": "2023-04-11T21:48:53.057Z"
   },
   {
    "duration": 9,
    "start_time": "2023-04-11T21:48:53.567Z"
   },
   {
    "duration": 5,
    "start_time": "2023-04-11T21:49:01.671Z"
   },
   {
    "duration": 4,
    "start_time": "2023-04-11T21:50:45.554Z"
   },
   {
    "duration": 25,
    "start_time": "2023-04-11T21:50:46.592Z"
   },
   {
    "duration": 24,
    "start_time": "2023-04-11T21:50:47.990Z"
   },
   {
    "duration": 28,
    "start_time": "2023-04-11T21:50:48.280Z"
   },
   {
    "duration": 4,
    "start_time": "2023-04-11T21:58:20.173Z"
   },
   {
    "duration": 7,
    "start_time": "2023-04-11T21:58:20.640Z"
   },
   {
    "duration": 8,
    "start_time": "2023-04-11T21:58:21.127Z"
   },
   {
    "duration": 6,
    "start_time": "2023-04-11T21:58:21.550Z"
   },
   {
    "duration": 3,
    "start_time": "2023-04-11T21:58:25.490Z"
   },
   {
    "duration": 7,
    "start_time": "2023-04-11T21:58:25.935Z"
   },
   {
    "duration": 8,
    "start_time": "2023-04-11T21:58:26.658Z"
   },
   {
    "duration": 7,
    "start_time": "2023-04-11T21:58:27.095Z"
   },
   {
    "duration": 3,
    "start_time": "2023-04-11T21:58:39.115Z"
   },
   {
    "duration": 7,
    "start_time": "2023-04-11T21:58:39.568Z"
   },
   {
    "duration": 8,
    "start_time": "2023-04-11T21:58:40.016Z"
   },
   {
    "duration": 8,
    "start_time": "2023-04-11T21:58:40.320Z"
   },
   {
    "duration": 4,
    "start_time": "2023-04-11T22:04:13.283Z"
   },
   {
    "duration": 8,
    "start_time": "2023-04-11T22:04:14.244Z"
   },
   {
    "duration": 9,
    "start_time": "2023-04-11T22:04:15.067Z"
   },
   {
    "duration": 9,
    "start_time": "2023-04-11T22:04:15.566Z"
   },
   {
    "duration": 837,
    "start_time": "2023-04-11T22:04:36.015Z"
   },
   {
    "duration": 820,
    "start_time": "2023-04-11T22:04:45.823Z"
   },
   {
    "duration": 830,
    "start_time": "2023-04-11T22:04:53.069Z"
   },
   {
    "duration": 7,
    "start_time": "2023-04-11T22:08:53.930Z"
   },
   {
    "duration": 932,
    "start_time": "2023-04-11T22:08:54.647Z"
   },
   {
    "duration": 896,
    "start_time": "2023-04-11T22:08:55.584Z"
   },
   {
    "duration": 910,
    "start_time": "2023-04-11T22:08:56.484Z"
   },
   {
    "duration": 4,
    "start_time": "2023-04-11T22:09:40.913Z"
   },
   {
    "duration": 860,
    "start_time": "2023-04-11T22:09:42.773Z"
   },
   {
    "duration": 900,
    "start_time": "2023-04-11T22:09:43.635Z"
   },
   {
    "duration": 820,
    "start_time": "2023-04-11T22:09:44.536Z"
   },
   {
    "duration": 5,
    "start_time": "2023-04-11T22:10:41.059Z"
   },
   {
    "duration": 834,
    "start_time": "2023-04-11T22:10:41.918Z"
   },
   {
    "duration": 859,
    "start_time": "2023-04-11T22:10:42.754Z"
   },
   {
    "duration": 946,
    "start_time": "2023-04-11T22:10:43.615Z"
   },
   {
    "duration": 4,
    "start_time": "2023-04-11T22:11:16.740Z"
   },
   {
    "duration": 863,
    "start_time": "2023-04-11T22:11:17.571Z"
   },
   {
    "duration": 874,
    "start_time": "2023-04-11T22:11:18.437Z"
   },
   {
    "duration": 831,
    "start_time": "2023-04-11T22:11:19.313Z"
   },
   {
    "duration": 4,
    "start_time": "2023-04-11T22:11:53.509Z"
   },
   {
    "duration": 885,
    "start_time": "2023-04-11T22:11:54.233Z"
   },
   {
    "duration": 901,
    "start_time": "2023-04-11T22:11:55.120Z"
   },
   {
    "duration": 864,
    "start_time": "2023-04-11T22:11:56.023Z"
   },
   {
    "duration": 5,
    "start_time": "2023-04-11T22:17:27.694Z"
   },
   {
    "duration": 992,
    "start_time": "2023-04-11T22:17:28.630Z"
   },
   {
    "duration": 961,
    "start_time": "2023-04-11T22:17:46.430Z"
   },
   {
    "duration": 1044,
    "start_time": "2023-04-11T22:17:47.393Z"
   },
   {
    "duration": 5,
    "start_time": "2023-04-11T22:18:55.701Z"
   },
   {
    "duration": 855,
    "start_time": "2023-04-11T22:18:57.259Z"
   },
   {
    "duration": 867,
    "start_time": "2023-04-11T22:18:58.116Z"
   },
   {
    "duration": 870,
    "start_time": "2023-04-11T22:18:58.985Z"
   },
   {
    "duration": 5,
    "start_time": "2023-04-11T22:19:19.803Z"
   },
   {
    "duration": 847,
    "start_time": "2023-04-11T22:19:20.746Z"
   },
   {
    "duration": 5,
    "start_time": "2023-04-11T22:19:46.869Z"
   },
   {
    "duration": 891,
    "start_time": "2023-04-11T22:19:47.714Z"
   },
   {
    "duration": 879,
    "start_time": "2023-04-11T22:19:51.667Z"
   },
   {
    "duration": 877,
    "start_time": "2023-04-11T22:19:52.548Z"
   },
   {
    "duration": 5,
    "start_time": "2023-04-11T22:20:14.149Z"
   },
   {
    "duration": 839,
    "start_time": "2023-04-11T22:20:14.898Z"
   },
   {
    "duration": 855,
    "start_time": "2023-04-11T22:20:15.739Z"
   },
   {
    "duration": 852,
    "start_time": "2023-04-11T22:20:16.596Z"
   },
   {
    "duration": 5,
    "start_time": "2023-04-11T22:20:28.750Z"
   },
   {
    "duration": 872,
    "start_time": "2023-04-11T22:20:29.298Z"
   },
   {
    "duration": 916,
    "start_time": "2023-04-11T22:20:30.172Z"
   },
   {
    "duration": 895,
    "start_time": "2023-04-11T22:20:31.090Z"
   }
  ],
  "kernelspec": {
   "display_name": "Python 3 (ipykernel)",
   "language": "python",
   "name": "python3"
  },
  "language_info": {
   "codemirror_mode": {
    "name": "ipython",
    "version": 3
   },
   "file_extension": ".py",
   "mimetype": "text/x-python",
   "name": "python",
   "nbconvert_exporter": "python",
   "pygments_lexer": "ipython3",
   "version": "3.9.13"
  },
  "toc": {
   "base_numbering": 1,
   "nav_menu": {},
   "number_sections": true,
   "sideBar": true,
   "skip_h1_title": true,
   "title_cell": "Table of Contents",
   "title_sidebar": "Contents",
   "toc_cell": true,
   "toc_position": {},
   "toc_section_display": true,
   "toc_window_display": false
  }
 },
 "nbformat": 4,
 "nbformat_minor": 5
}
